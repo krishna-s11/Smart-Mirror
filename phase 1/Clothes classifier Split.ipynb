{
 "cells": [
  {
   "cell_type": "code",
   "execution_count": null,
   "id": "b6904041",
   "metadata": {},
   "outputs": [],
   "source": []
  },
  {
   "cell_type": "code",
   "execution_count": null,
   "id": "0e6d1fa0",
   "metadata": {},
   "outputs": [
    {
     "name": "stderr",
     "output_type": "stream",
     "text": [
      "2022-11-15 02:36:28.489820: I tensorflow/core/platform/cpu_feature_guard.cc:193] This TensorFlow binary is optimized with oneAPI Deep Neural Network Library (oneDNN) to use the following CPU instructions in performance-critical operations:  AVX2 FMA\n",
      "To enable them in other operations, rebuild TensorFlow with the appropriate compiler flags.\n",
      "/var/folders/08/_ldbqvz16j10d6w1jc1yxknr0000gn/T/ipykernel_12283/3143007750.py:33: SettingWithCopyWarning: \n",
      "A value is trying to be set on a copy of a slice from a DataFrame\n",
      "\n",
      "See the caveats in the documentation: https://pandas.pydata.org/pandas-docs/stable/user_guide/indexing.html#returning-a-view-versus-a-copy\n",
      "  label_df['label'][i]=repl[label_df['label'][i]]\n",
      "/Users/krishna/opt/anaconda3/lib/python3.9/site-packages/torchvision/models/_utils.py:208: UserWarning: The parameter 'pretrained' is deprecated since 0.13 and may be removed in the future, please use 'weights' instead.\n",
      "  warnings.warn(\n",
      "/Users/krishna/opt/anaconda3/lib/python3.9/site-packages/torchvision/models/_utils.py:223: UserWarning: Arguments other than a weight enum or `None` for 'weights' are deprecated since 0.13 and may be removed in the future. The current behavior is equivalent to passing `weights=VGG16_Weights.IMAGENET1K_V1`. You can also use `weights=VGG16_Weights.DEFAULT` to get the most up-to-date weights.\n",
      "  warnings.warn(msg)\n"
     ]
    }
   ],
   "source": [
    "import os\n",
    "import pandas as pd \n",
    "import matplotlib.pyplot as plt \n",
    "\n",
    "from PIL import Image\n",
    "\n",
    "import numpy as np\n",
    "\n",
    "\n",
    "\n",
    "import pandas as pd\n",
    "\n",
    "labels = pd.read_csv('/Users/krishna/Documents/Projects/Smart Mirror/archive/images.csv')\n",
    "labels['image'] = labels['image'] + '.jpg'\n",
    "label_df = labels[['image', 'label']]\n",
    "labels.head()\n",
    "\n",
    "\n",
    "classes=list(label_df['label'].unique())\n",
    "\n",
    "repl={}\n",
    "for i in range(len(classes)):\n",
    "    repl[classes[i]]=i\n",
    "    \n",
    "repl\n",
    "\n",
    "for i in range(len(label_df)):\n",
    "    label_df['label'][i]=repl[label_df['label'][i]]\n",
    "\n",
    "label_df.head()    \n",
    "\n",
    "\n",
    "from sklearn.model_selection import train_test_split\n",
    "train_label_df, test_label_df = train_test_split(label_df, test_size=0.10)\n",
    "\n",
    "train_label_df.to_csv ('./train_csv3.csv', index = False, header=True)\n",
    "test_label_df.to_csv ('./test_csv3.csv', index = False, header=True)\n",
    "\n"
   ]
  },
  {
   "cell_type": "code",
   "execution_count": null,
   "id": "79794300",
   "metadata": {},
   "outputs": [],
   "source": []
  }
 ],
 "metadata": {
  "kernelspec": {
   "display_name": "Python 3 (ipykernel)",
   "language": "python",
   "name": "python3"
  },
  "language_info": {
   "codemirror_mode": {
    "name": "ipython",
    "version": 3
   },
   "file_extension": ".py",
   "mimetype": "text/x-python",
   "name": "python",
   "nbconvert_exporter": "python",
   "pygments_lexer": "ipython3",
   "version": "3.9.12"
  }
 },
 "nbformat": 4,
 "nbformat_minor": 5
}
