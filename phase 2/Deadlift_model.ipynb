{
 "cells": [
  {
   "cell_type": "code",
   "execution_count": 1,
   "id": "4dbd1b01",
   "metadata": {},
   "outputs": [
    {
     "name": "stdout",
     "output_type": "stream",
     "text": [
      "Requirement already satisfied: xgboost in /Users/krishna/opt/anaconda3/lib/python3.9/site-packages (1.7.5)\n",
      "Requirement already satisfied: scipy in /Users/krishna/opt/anaconda3/lib/python3.9/site-packages (from xgboost) (1.7.3)\n",
      "Requirement already satisfied: numpy in /Users/krishna/opt/anaconda3/lib/python3.9/site-packages (from xgboost) (1.21.5)\n",
      "\n",
      "\u001b[1m[\u001b[0m\u001b[34;49mnotice\u001b[0m\u001b[1;39;49m]\u001b[0m\u001b[39;49m A new release of pip available: \u001b[0m\u001b[31;49m22.3.1\u001b[0m\u001b[39;49m -> \u001b[0m\u001b[32;49m23.1.2\u001b[0m\n",
      "\u001b[1m[\u001b[0m\u001b[34;49mnotice\u001b[0m\u001b[1;39;49m]\u001b[0m\u001b[39;49m To update, run: \u001b[0m\u001b[32;49mpip install --upgrade pip\u001b[0m\n"
     ]
    }
   ],
   "source": [
    "!pip install xgboost"
   ]
  },
  {
   "cell_type": "code",
   "execution_count": 27,
   "id": "f7eb9a01",
   "metadata": {},
   "outputs": [
    {
     "name": "stdout",
     "output_type": "stream",
     "text": [
      "Accuracy: 95.73%\n"
     ]
    },
    {
     "name": "stderr",
     "output_type": "stream",
     "text": [
      "/Users/krishna/opt/anaconda3/lib/python3.9/site-packages/sklearn/linear_model/_logistic.py:814: ConvergenceWarning: lbfgs failed to converge (status=1):\n",
      "STOP: TOTAL NO. of ITERATIONS REACHED LIMIT.\n",
      "\n",
      "Increase the number of iterations (max_iter) or scale the data as shown in:\n",
      "    https://scikit-learn.org/stable/modules/preprocessing.html\n",
      "Please also refer to the documentation for alternative solver options:\n",
      "    https://scikit-learn.org/stable/modules/linear_model.html#logistic-regression\n",
      "  n_iter_i = _check_optimize_result(\n"
     ]
    }
   ],
   "source": [
    "# Import necessary libraries\n",
    "import pandas as pd\n",
    "import numpy as np\n",
    "import pickle\n",
    "from sklearn.model_selection import train_test_split\n",
    "from sklearn.linear_model import LogisticRegression\n",
    "from sklearn.metrics import accuracy_score\n",
    "\n",
    "# Load the data into a Pandas dataframe\n",
    "data1 = pd.read_csv('/Users/krishna/Documents/Projects/smart mirror phase 2/deadlift_train1.csv')\n",
    "data2 = pd.read_csv('/Users/krishna/Documents/Projects/smart mirror phase 2/deadlift_train2.csv')\n",
    "data3 = pd.read_csv('/Users/krishna/Documents/Projects/smart mirror phase 2/deadlift_train3.csv')\n",
    "data4 = pd.read_csv('/Users/krishna/Documents/Projects/smart mirror phase 2/deadlift_train4.csv')\n",
    "\n",
    "data = pd.concat([data1, data2, data3, data4],ignore_index = 1)\n",
    "\n",
    "\n",
    "# Replace all occurrences of 'A' in the 'col1' column with 'Z'\n",
    "data['class'] = data['class'].replace('up', 1)\n",
    "\n",
    "# Replace multiple values at once in the 'col1' column\n",
    "data['class'] = data['class'].replace('down',-1)\n",
    "data['class'] = data['class'].replace('mid',0)\n",
    "\n",
    "\n",
    "# Split the data into training and testing sets\n",
    "X = data.drop('class', axis=1)\n",
    "y = data['class']\n",
    "X_train, X_test, y_train, y_test = train_test_split(X, y, test_size=0.2, random_state=42)\n",
    "\n",
    "# Define the XGBoost model\n",
    "# model = LogisticRegression(multi_class='multinomial', solver='lbfgs')\n",
    "model = LogisticRegression()\n",
    "\n",
    "# print(X_train, X_test, y_train, y_test)\n",
    "# Train the model\n",
    "model.fit(X_train, y_train)\n",
    "\n",
    "# Make predictions on the testing set\n",
    "y_pred = model.predict(X_test)\n",
    "\n",
    "# Calculate the accuracy of the model\n",
    "accuracy = accuracy_score(y_test, y_pred)\n",
    "print(\"Accuracy: %.2f%%\" % (accuracy * 100.0))\n",
    "\n",
    "pickle.dump(model, open('deadlift_model.sav', 'wb'))"
   ]
  },
  {
   "cell_type": "code",
   "execution_count": 28,
   "id": "aad333fd",
   "metadata": {},
   "outputs": [
    {
     "name": "stdout",
     "output_type": "stream",
     "text": [
      "[ 0  1  1  1  0  1 -1  0 -1  1  0  0 -1  1  0  0  1  0  1  0  0  1  1 -1\n",
      "  0 -1  0  1  0  1 -1 -1 -1  0 -1 -1  1  1  1  1  1  0  1 -1 -1  1 -1  1\n",
      "  1  0  1  1  1 -1  1 -1  1 -1  0  0  1  0  1  1  0  0  1  1 -1  1  1  0\n",
      " -1 -1  1  0  1 -1  0 -1  1  1 -1  0  1  1  1  1  1  1 -1  1  1  1  1  0\n",
      "  1  0  1  1  1  1  1  1  1  0  0  0  1  1  1 -1  1  0 -1  0  1  1  0  1\n",
      " -1 -1  0 -1  1  0  0  0 -1  1  1  1  0  0 -1  0  1  1  0  1  1  1  0  0\n",
      "  0 -1  1  0  0  0  0  0  1 -1  1  1  1 -1 -1  0  0 -1  1  1 -1  1  1  1\n",
      "  0  1 -1 -1 -1 -1  0 -1  1 -1  0  1  1  0  0  1  1  0 -1  1  1  0  1  1\n",
      "  1  1  0  0  0  0 -1  1  1  0  0  1 -1  1  0 -1  1  1  0  0  1 -1  1  0\n",
      " -1  1  1 -1  0  1  1  1 -1  1  0  1 -1  1  1  0  0  1 -1  0  0 -1  0  0\n",
      "  1  0  1  1  0  0 -1  1  1 -1  1  0  1 -1 -1  1  0  1  1  1  1  1 -1 -1\n",
      " -1 -1  1  1  1  1 -1  0  0  1  0  1  1  1  1  1  1 -1  0  1 -1  1  1  1\n",
      " -1  1  0  0  0  0  1  1  0  1 -1  0 -1  0  1  1  1  0  1  1 -1  0  0  1\n",
      "  1  1  1  1  0  1  1  1  1 -1 -1  0  1 -1  1  1  1  1  0 -1 -1 -1  1  0\n",
      "  0  0  1 -1 -1  0 -1  0  1  1  1 -1  1  0  1  1  1 -1  1  1  1  1 -1  0\n",
      "  1  1  1  1  0  1  1  0 -1  1  0  1  1  0  1]\n"
     ]
    }
   ],
   "source": [
    "loaded_model = pickle.load(open('deadlift_model.sav', 'rb'))\n",
    "ypred = loaded_model.predict(X_test)\n",
    "print(ypred)"
   ]
  },
  {
   "cell_type": "code",
   "execution_count": null,
   "id": "82f717b3",
   "metadata": {},
   "outputs": [],
   "source": []
  },
  {
   "cell_type": "code",
   "execution_count": null,
   "id": "cd345915",
   "metadata": {},
   "outputs": [],
   "source": []
  }
 ],
 "metadata": {
  "kernelspec": {
   "display_name": "Python 3 (ipykernel)",
   "language": "python",
   "name": "python3"
  },
  "language_info": {
   "codemirror_mode": {
    "name": "ipython",
    "version": 3
   },
   "file_extension": ".py",
   "mimetype": "text/x-python",
   "name": "python",
   "nbconvert_exporter": "python",
   "pygments_lexer": "ipython3",
   "version": "3.9.12"
  }
 },
 "nbformat": 4,
 "nbformat_minor": 5
}
