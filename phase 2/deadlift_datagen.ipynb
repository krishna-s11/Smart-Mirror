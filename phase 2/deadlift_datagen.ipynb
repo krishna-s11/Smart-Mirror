{
 "cells": [
  {
   "cell_type": "code",
   "execution_count": 1,
   "id": "4fec3d8f",
   "metadata": {},
   "outputs": [
    {
     "name": "stdout",
     "output_type": "stream",
     "text": [
      "Requirement already satisfied: keyboard in /Users/krishna/opt/anaconda3/lib/python3.9/site-packages (0.13.5)\n",
      "Requirement already satisfied: pyobjc in /Users/krishna/opt/anaconda3/lib/python3.9/site-packages (from keyboard) (9.1.1)\n",
      "Requirement already satisfied: pyobjc-framework-SoundAnalysis==9.1.1 in /Users/krishna/opt/anaconda3/lib/python3.9/site-packages (from pyobjc->keyboard) (9.1.1)\n",
      "Requirement already satisfied: pyobjc-framework-MediaPlayer==9.1.1 in /Users/krishna/opt/anaconda3/lib/python3.9/site-packages (from pyobjc->keyboard) (9.1.1)\n",
      "Requirement already satisfied: pyobjc-framework-IOBluetooth==9.1.1 in /Users/krishna/opt/anaconda3/lib/python3.9/site-packages (from pyobjc->keyboard) (9.1.1)\n",
      "Requirement already satisfied: pyobjc-framework-PencilKit==9.1.1 in /Users/krishna/opt/anaconda3/lib/python3.9/site-packages (from pyobjc->keyboard) (9.1.1)\n",
      "Requirement already satisfied: pyobjc-framework-ExceptionHandling==9.1.1 in /Users/krishna/opt/anaconda3/lib/python3.9/site-packages (from pyobjc->keyboard) (9.1.1)\n",
      "Requirement already satisfied: pyobjc-framework-PHASE==9.1.1 in /Users/krishna/opt/anaconda3/lib/python3.9/site-packages (from pyobjc->keyboard) (9.1.1)\n",
      "Requirement already satisfied: pyobjc-framework-MediaToolbox==9.1.1 in /Users/krishna/opt/anaconda3/lib/python3.9/site-packages (from pyobjc->keyboard) (9.1.1)\n",
      "Requirement already satisfied: pyobjc-framework-CoreText==9.1.1 in /Users/krishna/opt/anaconda3/lib/python3.9/site-packages (from pyobjc->keyboard) (9.1.1)\n",
      "Requirement already satisfied: pyobjc-framework-SecurityFoundation==9.1.1 in /Users/krishna/opt/anaconda3/lib/python3.9/site-packages (from pyobjc->keyboard) (9.1.1)\n",
      "Requirement already satisfied: pyobjc-framework-CloudKit==9.1.1 in /Users/krishna/opt/anaconda3/lib/python3.9/site-packages (from pyobjc->keyboard) (9.1.1)\n",
      "Requirement already satisfied: pyobjc-framework-NetFS==9.1.1 in /Users/krishna/opt/anaconda3/lib/python3.9/site-packages (from pyobjc->keyboard) (9.1.1)\n",
      "Requirement already satisfied: pyobjc-framework-NaturalLanguage==9.1.1 in /Users/krishna/opt/anaconda3/lib/python3.9/site-packages (from pyobjc->keyboard) (9.1.1)\n",
      "Requirement already satisfied: pyobjc-framework-MapKit==9.1.1 in /Users/krishna/opt/anaconda3/lib/python3.9/site-packages (from pyobjc->keyboard) (9.1.1)\n",
      "Requirement already satisfied: pyobjc-framework-BusinessChat==9.1.1 in /Users/krishna/opt/anaconda3/lib/python3.9/site-packages (from pyobjc->keyboard) (9.1.1)\n",
      "Requirement already satisfied: pyobjc-framework-LinkPresentation==9.1.1 in /Users/krishna/opt/anaconda3/lib/python3.9/site-packages (from pyobjc->keyboard) (9.1.1)\n",
      "Requirement already satisfied: pyobjc-framework-ScreenCaptureKit==9.1.1 in /Users/krishna/opt/anaconda3/lib/python3.9/site-packages (from pyobjc->keyboard) (9.1.1)\n",
      "Requirement already satisfied: pyobjc-framework-ScreenSaver==9.1.1 in /Users/krishna/opt/anaconda3/lib/python3.9/site-packages (from pyobjc->keyboard) (9.1.1)\n",
      "Requirement already satisfied: pyobjc-framework-MediaLibrary==9.1.1 in /Users/krishna/opt/anaconda3/lib/python3.9/site-packages (from pyobjc->keyboard) (9.1.1)\n",
      "Requirement already satisfied: pyobjc-framework-OSAKit==9.1.1 in /Users/krishna/opt/anaconda3/lib/python3.9/site-packages (from pyobjc->keyboard) (9.1.1)\n",
      "Requirement already satisfied: pyobjc-framework-GameController==9.1.1 in /Users/krishna/opt/anaconda3/lib/python3.9/site-packages (from pyobjc->keyboard) (9.1.1)\n",
      "Requirement already satisfied: pyobjc-framework-IOBluetoothUI==9.1.1 in /Users/krishna/opt/anaconda3/lib/python3.9/site-packages (from pyobjc->keyboard) (9.1.1)\n",
      "Requirement already satisfied: pyobjc-framework-Contacts==9.1.1 in /Users/krishna/opt/anaconda3/lib/python3.9/site-packages (from pyobjc->keyboard) (9.1.1)\n",
      "Requirement already satisfied: pyobjc-framework-AddressBook==9.1.1 in /Users/krishna/opt/anaconda3/lib/python3.9/site-packages (from pyobjc->keyboard) (9.1.1)\n",
      "Requirement already satisfied: pyobjc-framework-Accounts==9.1.1 in /Users/krishna/opt/anaconda3/lib/python3.9/site-packages (from pyobjc->keyboard) (9.1.1)\n",
      "Requirement already satisfied: pyobjc-framework-InputMethodKit==9.1.1 in /Users/krishna/opt/anaconda3/lib/python3.9/site-packages (from pyobjc->keyboard) (9.1.1)\n",
      "Requirement already satisfied: pyobjc-framework-SecurityInterface==9.1.1 in /Users/krishna/opt/anaconda3/lib/python3.9/site-packages (from pyobjc->keyboard) (9.1.1)\n",
      "Requirement already satisfied: pyobjc-framework-GameCenter==9.1.1 in /Users/krishna/opt/anaconda3/lib/python3.9/site-packages (from pyobjc->keyboard) (9.1.1)\n",
      "Requirement already satisfied: pyobjc-framework-iTunesLibrary==9.1.1 in /Users/krishna/opt/anaconda3/lib/python3.9/site-packages (from pyobjc->keyboard) (9.1.1)\n",
      "Requirement already satisfied: pyobjc-framework-AudioVideoBridging==9.1.1 in /Users/krishna/opt/anaconda3/lib/python3.9/site-packages (from pyobjc->keyboard) (9.1.1)\n",
      "Requirement already satisfied: pyobjc-framework-SearchKit==9.1.1 in /Users/krishna/opt/anaconda3/lib/python3.9/site-packages (from pyobjc->keyboard) (9.1.1)\n",
      "Requirement already satisfied: pyobjc-framework-QuickLookThumbnailing==9.1.1 in /Users/krishna/opt/anaconda3/lib/python3.9/site-packages (from pyobjc->keyboard) (9.1.1)\n",
      "Requirement already satisfied: pyobjc-framework-CoreLocation==9.1.1 in /Users/krishna/opt/anaconda3/lib/python3.9/site-packages (from pyobjc->keyboard) (9.1.1)\n",
      "Requirement already satisfied: pyobjc-framework-CoreMIDI==9.1.1 in /Users/krishna/opt/anaconda3/lib/python3.9/site-packages (from pyobjc->keyboard) (9.1.1)\n",
      "Requirement already satisfied: pyobjc-framework-CFNetwork==9.1.1 in /Users/krishna/opt/anaconda3/lib/python3.9/site-packages (from pyobjc->keyboard) (9.1.1)\n",
      "Requirement already satisfied: pyobjc-framework-AppleScriptObjC==9.1.1 in /Users/krishna/opt/anaconda3/lib/python3.9/site-packages (from pyobjc->keyboard) (9.1.1)\n",
      "Requirement already satisfied: pyobjc-framework-OpenDirectory==9.1.1 in /Users/krishna/opt/anaconda3/lib/python3.9/site-packages (from pyobjc->keyboard) (9.1.1)\n",
      "Requirement already satisfied: pyobjc-framework-MetalKit==9.1.1 in /Users/krishna/opt/anaconda3/lib/python3.9/site-packages (from pyobjc->keyboard) (9.1.1)\n",
      "Requirement already satisfied: pyobjc-framework-FileProvider==9.1.1 in /Users/krishna/opt/anaconda3/lib/python3.9/site-packages (from pyobjc->keyboard) (9.1.1)\n",
      "Requirement already satisfied: pyobjc-framework-PushKit==9.1.1 in /Users/krishna/opt/anaconda3/lib/python3.9/site-packages (from pyobjc->keyboard) (9.1.1)\n",
      "Requirement already satisfied: pyobjc-framework-libxpc==9.1.1 in /Users/krishna/opt/anaconda3/lib/python3.9/site-packages (from pyobjc->keyboard) (9.1.1)\n",
      "Requirement already satisfied: pyobjc-framework-EventKit==9.1.1 in /Users/krishna/opt/anaconda3/lib/python3.9/site-packages (from pyobjc->keyboard) (9.1.1)\n",
      "Requirement already satisfied: pyobjc-framework-DictionaryServices==9.1.1 in /Users/krishna/opt/anaconda3/lib/python3.9/site-packages (from pyobjc->keyboard) (9.1.1)\n",
      "Requirement already satisfied: pyobjc-framework-Cocoa==9.1.1 in /Users/krishna/opt/anaconda3/lib/python3.9/site-packages (from pyobjc->keyboard) (9.1.1)\n",
      "Requirement already satisfied: pyobjc-framework-MetalPerformanceShadersGraph==9.1.1 in /Users/krishna/opt/anaconda3/lib/python3.9/site-packages (from pyobjc->keyboard) (9.1.1)\n",
      "Requirement already satisfied: pyobjc-framework-CoreAudio==9.1.1 in /Users/krishna/opt/anaconda3/lib/python3.9/site-packages (from pyobjc->keyboard) (9.1.1)\n",
      "Requirement already satisfied: pyobjc-framework-InstallerPlugins==9.1.1 in /Users/krishna/opt/anaconda3/lib/python3.9/site-packages (from pyobjc->keyboard) (9.1.1)\n",
      "Requirement already satisfied: pyobjc-framework-AuthenticationServices==9.1.1 in /Users/krishna/opt/anaconda3/lib/python3.9/site-packages (from pyobjc->keyboard) (9.1.1)\n",
      "Requirement already satisfied: pyobjc-framework-AppTrackingTransparency==9.1.1 in /Users/krishna/opt/anaconda3/lib/python3.9/site-packages (from pyobjc->keyboard) (9.1.1)\n",
      "Requirement already satisfied: pyobjc-framework-MailKit==9.1.1 in /Users/krishna/opt/anaconda3/lib/python3.9/site-packages (from pyobjc->keyboard) (9.1.1)\n",
      "Requirement already satisfied: pyobjc-framework-Security==9.1.1 in /Users/krishna/opt/anaconda3/lib/python3.9/site-packages (from pyobjc->keyboard) (9.1.1)\n",
      "Requirement already satisfied: pyobjc-framework-DiscRecordingUI==9.1.1 in /Users/krishna/opt/anaconda3/lib/python3.9/site-packages (from pyobjc->keyboard) (9.1.1)\n",
      "Requirement already satisfied: pyobjc-framework-ModelIO==9.1.1 in /Users/krishna/opt/anaconda3/lib/python3.9/site-packages (from pyobjc->keyboard) (9.1.1)\n",
      "Requirement already satisfied: pyobjc-framework-WebKit==9.1.1 in /Users/krishna/opt/anaconda3/lib/python3.9/site-packages (from pyobjc->keyboard) (9.1.1)\n",
      "Requirement already satisfied: pyobjc-framework-AdSupport==9.1.1 in /Users/krishna/opt/anaconda3/lib/python3.9/site-packages (from pyobjc->keyboard) (9.1.1)\n",
      "Requirement already satisfied: pyobjc-framework-UserNotifications==9.1.1 in /Users/krishna/opt/anaconda3/lib/python3.9/site-packages (from pyobjc->keyboard) (9.1.1)\n",
      "Requirement already satisfied: pyobjc-framework-ApplicationServices==9.1.1 in /Users/krishna/opt/anaconda3/lib/python3.9/site-packages (from pyobjc->keyboard) (9.1.1)\n",
      "Requirement already satisfied: pyobjc-framework-ExternalAccessory==9.1.1 in /Users/krishna/opt/anaconda3/lib/python3.9/site-packages (from pyobjc->keyboard) (9.1.1)\n",
      "Requirement already satisfied: pyobjc-framework-ClassKit==9.1.1 in /Users/krishna/opt/anaconda3/lib/python3.9/site-packages (from pyobjc->keyboard) (9.1.1)\n",
      "Requirement already satisfied: pyobjc-framework-LocalAuthenticationEmbeddedUI==9.1.1 in /Users/krishna/opt/anaconda3/lib/python3.9/site-packages (from pyobjc->keyboard) (9.1.1)\n",
      "Requirement already satisfied: pyobjc-framework-PhotosUI==9.1.1 in /Users/krishna/opt/anaconda3/lib/python3.9/site-packages (from pyobjc->keyboard) (9.1.1)\n",
      "Requirement already satisfied: pyobjc-framework-GameKit==9.1.1 in /Users/krishna/opt/anaconda3/lib/python3.9/site-packages (from pyobjc->keyboard) (9.1.1)\n",
      "Requirement already satisfied: pyobjc-framework-MultipeerConnectivity==9.1.1 in /Users/krishna/opt/anaconda3/lib/python3.9/site-packages (from pyobjc->keyboard) (9.1.1)\n",
      "Requirement already satisfied: pyobjc-framework-ExecutionPolicy==9.1.1 in /Users/krishna/opt/anaconda3/lib/python3.9/site-packages (from pyobjc->keyboard) (9.1.1)\n",
      "Requirement already satisfied: pyobjc-framework-CoreSpotlight==9.1.1 in /Users/krishna/opt/anaconda3/lib/python3.9/site-packages (from pyobjc->keyboard) (9.1.1)\n",
      "Requirement already satisfied: pyobjc-framework-MetalPerformanceShaders==9.1.1 in /Users/krishna/opt/anaconda3/lib/python3.9/site-packages (from pyobjc->keyboard) (9.1.1)\n",
      "Requirement already satisfied: pyobjc-framework-CallKit==9.1.1 in /Users/krishna/opt/anaconda3/lib/python3.9/site-packages (from pyobjc->keyboard) (9.1.1)\n",
      "Requirement already satisfied: pyobjc-framework-LocalAuthentication==9.1.1 in /Users/krishna/opt/anaconda3/lib/python3.9/site-packages (from pyobjc->keyboard) (9.1.1)\n",
      "Requirement already satisfied: pyobjc-framework-VideoToolbox==9.1.1 in /Users/krishna/opt/anaconda3/lib/python3.9/site-packages (from pyobjc->keyboard) (9.1.1)\n",
      "Requirement already satisfied: pyobjc-framework-UniformTypeIdentifiers==9.1.1 in /Users/krishna/opt/anaconda3/lib/python3.9/site-packages (from pyobjc->keyboard) (9.1.1)\n",
      "Requirement already satisfied: pyobjc-framework-NetworkExtension==9.1.1 in /Users/krishna/opt/anaconda3/lib/python3.9/site-packages (from pyobjc->keyboard) (9.1.1)\n",
      "Requirement already satisfied: pyobjc-framework-CoreAudioKit==9.1.1 in /Users/krishna/opt/anaconda3/lib/python3.9/site-packages (from pyobjc->keyboard) (9.1.1)\n",
      "Requirement already satisfied: pyobjc-core==9.1.1 in /Users/krishna/opt/anaconda3/lib/python3.9/site-packages (from pyobjc->keyboard) (9.1.1)\n",
      "Requirement already satisfied: pyobjc-framework-FileProviderUI==9.1.1 in /Users/krishna/opt/anaconda3/lib/python3.9/site-packages (from pyobjc->keyboard) (9.1.1)\n",
      "Requirement already satisfied: pyobjc-framework-GameplayKit==9.1.1 in /Users/krishna/opt/anaconda3/lib/python3.9/site-packages (from pyobjc->keyboard) (9.1.1)\n",
      "Requirement already satisfied: pyobjc-framework-CoreMedia==9.1.1 in /Users/krishna/opt/anaconda3/lib/python3.9/site-packages (from pyobjc->keyboard) (9.1.1)\n",
      "Requirement already satisfied: pyobjc-framework-CoreMediaIO==9.1.1 in /Users/krishna/opt/anaconda3/lib/python3.9/site-packages (from pyobjc->keyboard) (9.1.1)\n",
      "Requirement already satisfied: pyobjc-framework-IMServicePlugIn==9.1.1 in /Users/krishna/opt/anaconda3/lib/python3.9/site-packages (from pyobjc->keyboard) (9.1.1)\n",
      "Requirement already satisfied: pyobjc-framework-ContactsUI==9.1.1 in /Users/krishna/opt/anaconda3/lib/python3.9/site-packages (from pyobjc->keyboard) (9.1.1)\n",
      "Requirement already satisfied: pyobjc-framework-CoreHaptics==9.1.1 in /Users/krishna/opt/anaconda3/lib/python3.9/site-packages (from pyobjc->keyboard) (9.1.1)\n",
      "Requirement already satisfied: pyobjc-framework-ScriptingBridge==9.1.1 in /Users/krishna/opt/anaconda3/lib/python3.9/site-packages (from pyobjc->keyboard) (9.1.1)\n",
      "Requirement already satisfied: pyobjc-framework-Collaboration==9.1.1 in /Users/krishna/opt/anaconda3/lib/python3.9/site-packages (from pyobjc->keyboard) (9.1.1)\n",
      "Requirement already satisfied: pyobjc-framework-DeviceCheck==9.1.1 in /Users/krishna/opt/anaconda3/lib/python3.9/site-packages (from pyobjc->keyboard) (9.1.1)\n",
      "Requirement already satisfied: pyobjc-framework-Accessibility==9.1.1 in /Users/krishna/opt/anaconda3/lib/python3.9/site-packages (from pyobjc->keyboard) (9.1.1)\n",
      "Requirement already satisfied: pyobjc-framework-Social==9.1.1 in /Users/krishna/opt/anaconda3/lib/python3.9/site-packages (from pyobjc->keyboard) (9.1.1)\n",
      "Requirement already satisfied: pyobjc-framework-CoreData==9.1.1 in /Users/krishna/opt/anaconda3/lib/python3.9/site-packages (from pyobjc->keyboard) (9.1.1)\n"
     ]
    },
    {
     "name": "stdout",
     "output_type": "stream",
     "text": [
      "Requirement already satisfied: pyobjc-framework-CoreBluetooth==9.1.1 in /Users/krishna/opt/anaconda3/lib/python3.9/site-packages (from pyobjc->keyboard) (9.1.1)\n",
      "Requirement already satisfied: pyobjc-framework-VideoSubscriberAccount==9.1.1 in /Users/krishna/opt/anaconda3/lib/python3.9/site-packages (from pyobjc->keyboard) (9.1.1)\n",
      "Requirement already satisfied: pyobjc-framework-CoreServices==9.1.1 in /Users/krishna/opt/anaconda3/lib/python3.9/site-packages (from pyobjc->keyboard) (9.1.1)\n",
      "Requirement already satisfied: pyobjc-framework-ScreenTime==9.1.1 in /Users/krishna/opt/anaconda3/lib/python3.9/site-packages (from pyobjc->keyboard) (9.1.1)\n",
      "Requirement already satisfied: pyobjc-framework-MediaAccessibility==9.1.1 in /Users/krishna/opt/anaconda3/lib/python3.9/site-packages (from pyobjc->keyboard) (9.1.1)\n",
      "Requirement already satisfied: pyobjc-framework-AVKit==9.1.1 in /Users/krishna/opt/anaconda3/lib/python3.9/site-packages (from pyobjc->keyboard) (9.1.1)\n",
      "Requirement already satisfied: pyobjc-framework-SpriteKit==9.1.1 in /Users/krishna/opt/anaconda3/lib/python3.9/site-packages (from pyobjc->keyboard) (9.1.1)\n",
      "Requirement already satisfied: pyobjc-framework-InstantMessage==9.1.1 in /Users/krishna/opt/anaconda3/lib/python3.9/site-packages (from pyobjc->keyboard) (9.1.1)\n",
      "Requirement already satisfied: pyobjc-framework-PassKit==9.1.1 in /Users/krishna/opt/anaconda3/lib/python3.9/site-packages (from pyobjc->keyboard) (9.1.1)\n",
      "Requirement already satisfied: pyobjc-framework-IOSurface==9.1.1 in /Users/krishna/opt/anaconda3/lib/python3.9/site-packages (from pyobjc->keyboard) (9.1.1)\n",
      "Requirement already satisfied: pyobjc-framework-AutomaticAssessmentConfiguration==9.1.1 in /Users/krishna/opt/anaconda3/lib/python3.9/site-packages (from pyobjc->keyboard) (9.1.1)\n",
      "Requirement already satisfied: pyobjc-framework-Intents==9.1.1 in /Users/krishna/opt/anaconda3/lib/python3.9/site-packages (from pyobjc->keyboard) (9.1.1)\n",
      "Requirement already satisfied: pyobjc-framework-LatentSemanticMapping==9.1.1 in /Users/krishna/opt/anaconda3/lib/python3.9/site-packages (from pyobjc->keyboard) (9.1.1)\n",
      "Requirement already satisfied: pyobjc-framework-SystemConfiguration==9.1.1 in /Users/krishna/opt/anaconda3/lib/python3.9/site-packages (from pyobjc->keyboard) (9.1.1)\n",
      "Requirement already satisfied: pyobjc-framework-Photos==9.1.1 in /Users/krishna/opt/anaconda3/lib/python3.9/site-packages (from pyobjc->keyboard) (9.1.1)\n",
      "Requirement already satisfied: pyobjc-framework-OSLog==9.1.1 in /Users/krishna/opt/anaconda3/lib/python3.9/site-packages (from pyobjc->keyboard) (9.1.1)\n",
      "Requirement already satisfied: pyobjc-framework-DiscRecording==9.1.1 in /Users/krishna/opt/anaconda3/lib/python3.9/site-packages (from pyobjc->keyboard) (9.1.1)\n",
      "Requirement already satisfied: pyobjc-framework-DataDetection==9.1.1 in /Users/krishna/opt/anaconda3/lib/python3.9/site-packages (from pyobjc->keyboard) (9.1.1)\n",
      "Requirement already satisfied: pyobjc-framework-CoreWLAN==9.1.1 in /Users/krishna/opt/anaconda3/lib/python3.9/site-packages (from pyobjc->keyboard) (9.1.1)\n",
      "Requirement already satisfied: pyobjc-framework-AVFoundation==9.1.1 in /Users/krishna/opt/anaconda3/lib/python3.9/site-packages (from pyobjc->keyboard) (9.1.1)\n",
      "Requirement already satisfied: pyobjc-framework-NotificationCenter==9.1.1 in /Users/krishna/opt/anaconda3/lib/python3.9/site-packages (from pyobjc->keyboard) (9.1.1)\n",
      "Requirement already satisfied: pyobjc-framework-DiskArbitration==9.1.1 in /Users/krishna/opt/anaconda3/lib/python3.9/site-packages (from pyobjc->keyboard) (9.1.1)\n",
      "Requirement already satisfied: pyobjc-framework-SafariServices==9.1.1 in /Users/krishna/opt/anaconda3/lib/python3.9/site-packages (from pyobjc->keyboard) (9.1.1)\n",
      "Requirement already satisfied: pyobjc-framework-Automator==9.1.1 in /Users/krishna/opt/anaconda3/lib/python3.9/site-packages (from pyobjc->keyboard) (9.1.1)\n",
      "Requirement already satisfied: pyobjc-framework-SyncServices==9.1.1 in /Users/krishna/opt/anaconda3/lib/python3.9/site-packages (from pyobjc->keyboard) (9.1.1)\n",
      "Requirement already satisfied: pyobjc-framework-Network==9.1.1 in /Users/krishna/opt/anaconda3/lib/python3.9/site-packages (from pyobjc->keyboard) (9.1.1)\n",
      "Requirement already satisfied: pyobjc-framework-MetricKit==9.1.1 in /Users/krishna/opt/anaconda3/lib/python3.9/site-packages (from pyobjc->keyboard) (9.1.1)\n",
      "Requirement already satisfied: pyobjc-framework-CryptoTokenKit==9.1.1 in /Users/krishna/opt/anaconda3/lib/python3.9/site-packages (from pyobjc->keyboard) (9.1.1)\n",
      "Requirement already satisfied: pyobjc-framework-Virtualization==9.1.1 in /Users/krishna/opt/anaconda3/lib/python3.9/site-packages (from pyobjc->keyboard) (9.1.1)\n",
      "Requirement already satisfied: pyobjc-framework-Metal==9.1.1 in /Users/krishna/opt/anaconda3/lib/python3.9/site-packages (from pyobjc->keyboard) (9.1.1)\n",
      "Requirement already satisfied: pyobjc-framework-Quartz==9.1.1 in /Users/krishna/opt/anaconda3/lib/python3.9/site-packages (from pyobjc->keyboard) (9.1.1)\n",
      "Requirement already satisfied: pyobjc-framework-KernelManagement==9.1.1 in /Users/krishna/opt/anaconda3/lib/python3.9/site-packages (from pyobjc->keyboard) (9.1.1)\n",
      "Requirement already satisfied: pyobjc-framework-libdispatch==9.1.1 in /Users/krishna/opt/anaconda3/lib/python3.9/site-packages (from pyobjc->keyboard) (9.1.1)\n",
      "Requirement already satisfied: pyobjc-framework-ShazamKit==9.1.1 in /Users/krishna/opt/anaconda3/lib/python3.9/site-packages (from pyobjc->keyboard) (9.1.1)\n",
      "Requirement already satisfied: pyobjc-framework-IntentsUI==9.1.1 in /Users/krishna/opt/anaconda3/lib/python3.9/site-packages (from pyobjc->keyboard) (9.1.1)\n",
      "Requirement already satisfied: pyobjc-framework-SystemExtensions==9.1.1 in /Users/krishna/opt/anaconda3/lib/python3.9/site-packages (from pyobjc->keyboard) (9.1.1)\n",
      "Requirement already satisfied: pyobjc-framework-LaunchServices==9.1.1 in /Users/krishna/opt/anaconda3/lib/python3.9/site-packages (from pyobjc->keyboard) (9.1.1)\n",
      "Requirement already satisfied: pyobjc-framework-CalendarStore==9.1.1 in /Users/krishna/opt/anaconda3/lib/python3.9/site-packages (from pyobjc->keyboard) (9.1.1)\n",
      "Requirement already satisfied: pyobjc-framework-MLCompute==9.1.1 in /Users/krishna/opt/anaconda3/lib/python3.9/site-packages (from pyobjc->keyboard) (9.1.1)\n",
      "Requirement already satisfied: pyobjc-framework-Vision==9.1.1 in /Users/krishna/opt/anaconda3/lib/python3.9/site-packages (from pyobjc->keyboard) (9.1.1)\n",
      "Requirement already satisfied: pyobjc-framework-AdServices==9.1.1 in /Users/krishna/opt/anaconda3/lib/python3.9/site-packages (from pyobjc->keyboard) (9.1.1)\n",
      "Requirement already satisfied: pyobjc-framework-FinderSync==9.1.1 in /Users/krishna/opt/anaconda3/lib/python3.9/site-packages (from pyobjc->keyboard) (9.1.1)\n",
      "Requirement already satisfied: pyobjc-framework-PreferencePanes==9.1.1 in /Users/krishna/opt/anaconda3/lib/python3.9/site-packages (from pyobjc->keyboard) (9.1.1)\n",
      "Requirement already satisfied: pyobjc-framework-CoreML==9.1.1 in /Users/krishna/opt/anaconda3/lib/python3.9/site-packages (from pyobjc->keyboard) (9.1.1)\n",
      "Requirement already satisfied: pyobjc-framework-AppleScriptKit==9.1.1 in /Users/krishna/opt/anaconda3/lib/python3.9/site-packages (from pyobjc->keyboard) (9.1.1)\n",
      "Requirement already satisfied: pyobjc-framework-DVDPlayback==9.1.1 in /Users/krishna/opt/anaconda3/lib/python3.9/site-packages (from pyobjc->keyboard) (9.1.1)\n",
      "Requirement already satisfied: pyobjc-framework-UserNotificationsUI==9.1.1 in /Users/krishna/opt/anaconda3/lib/python3.9/site-packages (from pyobjc->keyboard) (9.1.1)\n",
      "Requirement already satisfied: pyobjc-framework-SceneKit==9.1.1 in /Users/krishna/opt/anaconda3/lib/python3.9/site-packages (from pyobjc->keyboard) (9.1.1)\n",
      "Requirement already satisfied: pyobjc-framework-Speech==9.1.1 in /Users/krishna/opt/anaconda3/lib/python3.9/site-packages (from pyobjc->keyboard) (9.1.1)\n",
      "Requirement already satisfied: pyobjc-framework-CoreMotion==9.1.1 in /Users/krishna/opt/anaconda3/lib/python3.9/site-packages (from pyobjc->keyboard) (9.1.1)\n",
      "Requirement already satisfied: pyobjc-framework-ReplayKit==9.1.1 in /Users/krishna/opt/anaconda3/lib/python3.9/site-packages (from pyobjc->keyboard) (9.1.1)\n",
      "Requirement already satisfied: pyobjc-framework-ServiceManagement==9.1.1 in /Users/krishna/opt/anaconda3/lib/python3.9/site-packages (from pyobjc->keyboard) (9.1.1)\n",
      "Requirement already satisfied: pyobjc-framework-ColorSync==9.1.1 in /Users/krishna/opt/anaconda3/lib/python3.9/site-packages (from pyobjc->keyboard) (9.1.1)\n",
      "Requirement already satisfied: pyobjc-framework-FSEvents==9.1.1 in /Users/krishna/opt/anaconda3/lib/python3.9/site-packages (from pyobjc->keyboard) (9.1.1)\n",
      "Requirement already satisfied: pyobjc-framework-StoreKit==9.1.1 in /Users/krishna/opt/anaconda3/lib/python3.9/site-packages (from pyobjc->keyboard) (9.1.1)\n",
      "Requirement already satisfied: pyobjc-framework-ImageCaptureCore==9.1.1 in /Users/krishna/opt/anaconda3/lib/python3.9/site-packages (from pyobjc->keyboard) (9.1.1)\n"
     ]
    },
    {
     "name": "stdout",
     "output_type": "stream",
     "text": [
      "\r\n",
      "\u001b[1m[\u001b[0m\u001b[34;49mnotice\u001b[0m\u001b[1;39;49m]\u001b[0m\u001b[39;49m A new release of pip available: \u001b[0m\u001b[31;49m22.3.1\u001b[0m\u001b[39;49m -> \u001b[0m\u001b[32;49m23.1.2\u001b[0m\r\n",
      "\u001b[1m[\u001b[0m\u001b[34;49mnotice\u001b[0m\u001b[1;39;49m]\u001b[0m\u001b[39;49m To update, run: \u001b[0m\u001b[32;49mpip install --upgrade pip\u001b[0m\r\n"
     ]
    }
   ],
   "source": [
    "!pip install keyboard"
   ]
  },
  {
   "cell_type": "code",
   "execution_count": 2,
   "id": "43378a83",
   "metadata": {},
   "outputs": [
    {
     "name": "stdout",
     "output_type": "stream",
     "text": [
      "Empty DataFrame\n",
      "Columns: [class, x0, y0, z0, v0, x1, y1, z1, v1, x2, y2, z2, v2, x3, y3, z3, v3, x4, y4, z4, v4, x5, y5, z5, v5, x6, y6, z6, v6, x7, y7, z7, v7, x8, y8, z8, v8, x9, y9, z9, v9, x10, y10, z10, v10, x11, y11, z11, v11, x12, y12, z12, v12, x13, y13, z13, v13, x14, y14, z14, v14, x15, y15, z15, v15, x16, y16, z16, v16, x17, y17, z17, v17, x18, y18, z18, v18, x19, y19, z19, v19, x20, y20, z20, v20, x21, y21, z21, v21, x22, y22, z22, v22, x23, y23, z23, v23, x24, y24, z24, ...]\n",
      "Index: []\n",
      "\n",
      "[0 rows x 133 columns]\n"
     ]
    }
   ],
   "source": [
    "import pandas as pd\n",
    "\n",
    "\n",
    "cols = ['class']\n",
    "for i in range(0, 33):\n",
    "    cols += [f'x{i}', f'y{i}', f'z{i}', f'v{i}']\n",
    "temp = pd.DataFrame(columns=cols)\n",
    "final = pd.DataFrame(columns=cols)\n",
    "\n",
    "# print the empty DataFrame\n",
    "print(final)"
   ]
  },
  {
   "cell_type": "code",
   "execution_count": null,
   "id": "97b730a0",
   "metadata": {},
   "outputs": [],
   "source": []
  },
  {
   "cell_type": "code",
   "execution_count": null,
   "id": "3171053b",
   "metadata": {},
   "outputs": [],
   "source": []
  },
  {
   "cell_type": "code",
   "execution_count": 3,
   "id": "530a7286",
   "metadata": {},
   "outputs": [
    {
     "name": "stderr",
     "output_type": "stream",
     "text": [
      "INFO: Created TensorFlow Lite XNNPACK delegate for CPU.\n",
      "/var/folders/08/_ldbqvz16j10d6w1jc1yxknr0000gn/T/ipykernel_60070/2740257287.py:58: FutureWarning: The frame.append method is deprecated and will be removed from pandas in a future version. Use pandas.concat instead.\n",
      "  final = final.append(temp)\n",
      "/var/folders/08/_ldbqvz16j10d6w1jc1yxknr0000gn/T/ipykernel_60070/2740257287.py:58: FutureWarning: The frame.append method is deprecated and will be removed from pandas in a future version. Use pandas.concat instead.\n",
      "  final = final.append(temp)\n",
      "/var/folders/08/_ldbqvz16j10d6w1jc1yxknr0000gn/T/ipykernel_60070/2740257287.py:58: FutureWarning: The frame.append method is deprecated and will be removed from pandas in a future version. Use pandas.concat instead.\n",
      "  final = final.append(temp)\n"
     ]
    },
    {
     "name": "stdout",
     "output_type": "stream",
     "text": [
      "up\n",
      "up\n",
      "up\n"
     ]
    },
    {
     "name": "stderr",
     "output_type": "stream",
     "text": [
      "/var/folders/08/_ldbqvz16j10d6w1jc1yxknr0000gn/T/ipykernel_60070/2740257287.py:58: FutureWarning: The frame.append method is deprecated and will be removed from pandas in a future version. Use pandas.concat instead.\n",
      "  final = final.append(temp)\n",
      "/var/folders/08/_ldbqvz16j10d6w1jc1yxknr0000gn/T/ipykernel_60070/2740257287.py:58: FutureWarning: The frame.append method is deprecated and will be removed from pandas in a future version. Use pandas.concat instead.\n",
      "  final = final.append(temp)\n",
      "/var/folders/08/_ldbqvz16j10d6w1jc1yxknr0000gn/T/ipykernel_60070/2740257287.py:58: FutureWarning: The frame.append method is deprecated and will be removed from pandas in a future version. Use pandas.concat instead.\n",
      "  final = final.append(temp)\n"
     ]
    },
    {
     "name": "stdout",
     "output_type": "stream",
     "text": [
      "up\n",
      "up\n",
      "up\n"
     ]
    },
    {
     "name": "stderr",
     "output_type": "stream",
     "text": [
      "/var/folders/08/_ldbqvz16j10d6w1jc1yxknr0000gn/T/ipykernel_60070/2740257287.py:58: FutureWarning: The frame.append method is deprecated and will be removed from pandas in a future version. Use pandas.concat instead.\n",
      "  final = final.append(temp)\n",
      "/var/folders/08/_ldbqvz16j10d6w1jc1yxknr0000gn/T/ipykernel_60070/2740257287.py:58: FutureWarning: The frame.append method is deprecated and will be removed from pandas in a future version. Use pandas.concat instead.\n",
      "  final = final.append(temp)\n",
      "/var/folders/08/_ldbqvz16j10d6w1jc1yxknr0000gn/T/ipykernel_60070/2740257287.py:58: FutureWarning: The frame.append method is deprecated and will be removed from pandas in a future version. Use pandas.concat instead.\n",
      "  final = final.append(temp)\n"
     ]
    },
    {
     "name": "stdout",
     "output_type": "stream",
     "text": [
      "up\n",
      "up\n",
      "up\n"
     ]
    },
    {
     "name": "stderr",
     "output_type": "stream",
     "text": [
      "/var/folders/08/_ldbqvz16j10d6w1jc1yxknr0000gn/T/ipykernel_60070/2740257287.py:58: FutureWarning: The frame.append method is deprecated and will be removed from pandas in a future version. Use pandas.concat instead.\n",
      "  final = final.append(temp)\n",
      "/var/folders/08/_ldbqvz16j10d6w1jc1yxknr0000gn/T/ipykernel_60070/2740257287.py:58: FutureWarning: The frame.append method is deprecated and will be removed from pandas in a future version. Use pandas.concat instead.\n",
      "  final = final.append(temp)\n",
      "/var/folders/08/_ldbqvz16j10d6w1jc1yxknr0000gn/T/ipykernel_60070/2740257287.py:58: FutureWarning: The frame.append method is deprecated and will be removed from pandas in a future version. Use pandas.concat instead.\n",
      "  final = final.append(temp)\n"
     ]
    },
    {
     "name": "stdout",
     "output_type": "stream",
     "text": [
      "up\n",
      "up\n",
      "up\n"
     ]
    },
    {
     "name": "stderr",
     "output_type": "stream",
     "text": [
      "/var/folders/08/_ldbqvz16j10d6w1jc1yxknr0000gn/T/ipykernel_60070/2740257287.py:58: FutureWarning: The frame.append method is deprecated and will be removed from pandas in a future version. Use pandas.concat instead.\n",
      "  final = final.append(temp)\n",
      "/var/folders/08/_ldbqvz16j10d6w1jc1yxknr0000gn/T/ipykernel_60070/2740257287.py:58: FutureWarning: The frame.append method is deprecated and will be removed from pandas in a future version. Use pandas.concat instead.\n",
      "  final = final.append(temp)\n",
      "/var/folders/08/_ldbqvz16j10d6w1jc1yxknr0000gn/T/ipykernel_60070/2740257287.py:58: FutureWarning: The frame.append method is deprecated and will be removed from pandas in a future version. Use pandas.concat instead.\n",
      "  final = final.append(temp)\n"
     ]
    },
    {
     "name": "stdout",
     "output_type": "stream",
     "text": [
      "up\n",
      "up\n",
      "up\n"
     ]
    },
    {
     "name": "stderr",
     "output_type": "stream",
     "text": [
      "/var/folders/08/_ldbqvz16j10d6w1jc1yxknr0000gn/T/ipykernel_60070/2740257287.py:58: FutureWarning: The frame.append method is deprecated and will be removed from pandas in a future version. Use pandas.concat instead.\n",
      "  final = final.append(temp)\n",
      "/var/folders/08/_ldbqvz16j10d6w1jc1yxknr0000gn/T/ipykernel_60070/2740257287.py:58: FutureWarning: The frame.append method is deprecated and will be removed from pandas in a future version. Use pandas.concat instead.\n",
      "  final = final.append(temp)\n",
      "/var/folders/08/_ldbqvz16j10d6w1jc1yxknr0000gn/T/ipykernel_60070/2740257287.py:58: FutureWarning: The frame.append method is deprecated and will be removed from pandas in a future version. Use pandas.concat instead.\n",
      "  final = final.append(temp)\n"
     ]
    },
    {
     "name": "stdout",
     "output_type": "stream",
     "text": [
      "up\n",
      "up\n",
      "up\n"
     ]
    },
    {
     "name": "stderr",
     "output_type": "stream",
     "text": [
      "/var/folders/08/_ldbqvz16j10d6w1jc1yxknr0000gn/T/ipykernel_60070/2740257287.py:58: FutureWarning: The frame.append method is deprecated and will be removed from pandas in a future version. Use pandas.concat instead.\n",
      "  final = final.append(temp)\n",
      "/var/folders/08/_ldbqvz16j10d6w1jc1yxknr0000gn/T/ipykernel_60070/2740257287.py:58: FutureWarning: The frame.append method is deprecated and will be removed from pandas in a future version. Use pandas.concat instead.\n",
      "  final = final.append(temp)\n",
      "/var/folders/08/_ldbqvz16j10d6w1jc1yxknr0000gn/T/ipykernel_60070/2740257287.py:58: FutureWarning: The frame.append method is deprecated and will be removed from pandas in a future version. Use pandas.concat instead.\n",
      "  final = final.append(temp)\n"
     ]
    },
    {
     "name": "stdout",
     "output_type": "stream",
     "text": [
      "up\n",
      "up\n",
      "up\n"
     ]
    },
    {
     "name": "stderr",
     "output_type": "stream",
     "text": [
      "/var/folders/08/_ldbqvz16j10d6w1jc1yxknr0000gn/T/ipykernel_60070/2740257287.py:58: FutureWarning: The frame.append method is deprecated and will be removed from pandas in a future version. Use pandas.concat instead.\n",
      "  final = final.append(temp)\n",
      "/var/folders/08/_ldbqvz16j10d6w1jc1yxknr0000gn/T/ipykernel_60070/2740257287.py:58: FutureWarning: The frame.append method is deprecated and will be removed from pandas in a future version. Use pandas.concat instead.\n",
      "  final = final.append(temp)\n",
      "/var/folders/08/_ldbqvz16j10d6w1jc1yxknr0000gn/T/ipykernel_60070/2740257287.py:58: FutureWarning: The frame.append method is deprecated and will be removed from pandas in a future version. Use pandas.concat instead.\n",
      "  final = final.append(temp)\n"
     ]
    },
    {
     "name": "stdout",
     "output_type": "stream",
     "text": [
      "up\n",
      "up\n",
      "up\n"
     ]
    },
    {
     "name": "stderr",
     "output_type": "stream",
     "text": [
      "/var/folders/08/_ldbqvz16j10d6w1jc1yxknr0000gn/T/ipykernel_60070/2740257287.py:58: FutureWarning: The frame.append method is deprecated and will be removed from pandas in a future version. Use pandas.concat instead.\n",
      "  final = final.append(temp)\n",
      "/var/folders/08/_ldbqvz16j10d6w1jc1yxknr0000gn/T/ipykernel_60070/2740257287.py:58: FutureWarning: The frame.append method is deprecated and will be removed from pandas in a future version. Use pandas.concat instead.\n",
      "  final = final.append(temp)\n",
      "/var/folders/08/_ldbqvz16j10d6w1jc1yxknr0000gn/T/ipykernel_60070/2740257287.py:58: FutureWarning: The frame.append method is deprecated and will be removed from pandas in a future version. Use pandas.concat instead.\n",
      "  final = final.append(temp)\n"
     ]
    },
    {
     "name": "stdout",
     "output_type": "stream",
     "text": [
      "up\n",
      "up\n",
      "up\n"
     ]
    },
    {
     "name": "stderr",
     "output_type": "stream",
     "text": [
      "/var/folders/08/_ldbqvz16j10d6w1jc1yxknr0000gn/T/ipykernel_60070/2740257287.py:58: FutureWarning: The frame.append method is deprecated and will be removed from pandas in a future version. Use pandas.concat instead.\n",
      "  final = final.append(temp)\n",
      "/var/folders/08/_ldbqvz16j10d6w1jc1yxknr0000gn/T/ipykernel_60070/2740257287.py:58: FutureWarning: The frame.append method is deprecated and will be removed from pandas in a future version. Use pandas.concat instead.\n",
      "  final = final.append(temp)\n",
      "/var/folders/08/_ldbqvz16j10d6w1jc1yxknr0000gn/T/ipykernel_60070/2740257287.py:58: FutureWarning: The frame.append method is deprecated and will be removed from pandas in a future version. Use pandas.concat instead.\n",
      "  final = final.append(temp)\n"
     ]
    },
    {
     "name": "stdout",
     "output_type": "stream",
     "text": [
      "up\n",
      "up\n",
      "up\n"
     ]
    },
    {
     "name": "stderr",
     "output_type": "stream",
     "text": [
      "/var/folders/08/_ldbqvz16j10d6w1jc1yxknr0000gn/T/ipykernel_60070/2740257287.py:58: FutureWarning: The frame.append method is deprecated and will be removed from pandas in a future version. Use pandas.concat instead.\n",
      "  final = final.append(temp)\n",
      "/var/folders/08/_ldbqvz16j10d6w1jc1yxknr0000gn/T/ipykernel_60070/2740257287.py:58: FutureWarning: The frame.append method is deprecated and will be removed from pandas in a future version. Use pandas.concat instead.\n",
      "  final = final.append(temp)\n",
      "/var/folders/08/_ldbqvz16j10d6w1jc1yxknr0000gn/T/ipykernel_60070/2740257287.py:58: FutureWarning: The frame.append method is deprecated and will be removed from pandas in a future version. Use pandas.concat instead.\n",
      "  final = final.append(temp)\n"
     ]
    },
    {
     "name": "stdout",
     "output_type": "stream",
     "text": [
      "up\n",
      "up\n",
      "up\n"
     ]
    },
    {
     "name": "stderr",
     "output_type": "stream",
     "text": [
      "/var/folders/08/_ldbqvz16j10d6w1jc1yxknr0000gn/T/ipykernel_60070/2740257287.py:58: FutureWarning: The frame.append method is deprecated and will be removed from pandas in a future version. Use pandas.concat instead.\n",
      "  final = final.append(temp)\n",
      "/var/folders/08/_ldbqvz16j10d6w1jc1yxknr0000gn/T/ipykernel_60070/2740257287.py:76: FutureWarning: The frame.append method is deprecated and will be removed from pandas in a future version. Use pandas.concat instead.\n",
      "  final = final.append(temp)\n",
      "/var/folders/08/_ldbqvz16j10d6w1jc1yxknr0000gn/T/ipykernel_60070/2740257287.py:76: FutureWarning: The frame.append method is deprecated and will be removed from pandas in a future version. Use pandas.concat instead.\n",
      "  final = final.append(temp)\n"
     ]
    },
    {
     "name": "stdout",
     "output_type": "stream",
     "text": [
      "up\n",
      "mid\n",
      "mid\n"
     ]
    },
    {
     "name": "stderr",
     "output_type": "stream",
     "text": [
      "/var/folders/08/_ldbqvz16j10d6w1jc1yxknr0000gn/T/ipykernel_60070/2740257287.py:76: FutureWarning: The frame.append method is deprecated and will be removed from pandas in a future version. Use pandas.concat instead.\n",
      "  final = final.append(temp)\n",
      "/var/folders/08/_ldbqvz16j10d6w1jc1yxknr0000gn/T/ipykernel_60070/2740257287.py:76: FutureWarning: The frame.append method is deprecated and will be removed from pandas in a future version. Use pandas.concat instead.\n",
      "  final = final.append(temp)\n",
      "/var/folders/08/_ldbqvz16j10d6w1jc1yxknr0000gn/T/ipykernel_60070/2740257287.py:76: FutureWarning: The frame.append method is deprecated and will be removed from pandas in a future version. Use pandas.concat instead.\n",
      "  final = final.append(temp)\n"
     ]
    },
    {
     "name": "stdout",
     "output_type": "stream",
     "text": [
      "mid\n",
      "mid\n",
      "mid\n"
     ]
    },
    {
     "name": "stderr",
     "output_type": "stream",
     "text": [
      "/var/folders/08/_ldbqvz16j10d6w1jc1yxknr0000gn/T/ipykernel_60070/2740257287.py:76: FutureWarning: The frame.append method is deprecated and will be removed from pandas in a future version. Use pandas.concat instead.\n",
      "  final = final.append(temp)\n",
      "/var/folders/08/_ldbqvz16j10d6w1jc1yxknr0000gn/T/ipykernel_60070/2740257287.py:76: FutureWarning: The frame.append method is deprecated and will be removed from pandas in a future version. Use pandas.concat instead.\n",
      "  final = final.append(temp)\n",
      "/var/folders/08/_ldbqvz16j10d6w1jc1yxknr0000gn/T/ipykernel_60070/2740257287.py:76: FutureWarning: The frame.append method is deprecated and will be removed from pandas in a future version. Use pandas.concat instead.\n",
      "  final = final.append(temp)\n"
     ]
    },
    {
     "name": "stdout",
     "output_type": "stream",
     "text": [
      "mid\n",
      "mid\n",
      "mid\n"
     ]
    },
    {
     "name": "stderr",
     "output_type": "stream",
     "text": [
      "/var/folders/08/_ldbqvz16j10d6w1jc1yxknr0000gn/T/ipykernel_60070/2740257287.py:76: FutureWarning: The frame.append method is deprecated and will be removed from pandas in a future version. Use pandas.concat instead.\n",
      "  final = final.append(temp)\n",
      "/var/folders/08/_ldbqvz16j10d6w1jc1yxknr0000gn/T/ipykernel_60070/2740257287.py:76: FutureWarning: The frame.append method is deprecated and will be removed from pandas in a future version. Use pandas.concat instead.\n",
      "  final = final.append(temp)\n",
      "/var/folders/08/_ldbqvz16j10d6w1jc1yxknr0000gn/T/ipykernel_60070/2740257287.py:76: FutureWarning: The frame.append method is deprecated and will be removed from pandas in a future version. Use pandas.concat instead.\n",
      "  final = final.append(temp)\n"
     ]
    },
    {
     "name": "stdout",
     "output_type": "stream",
     "text": [
      "mid\n",
      "mid\n",
      "mid\n"
     ]
    },
    {
     "name": "stderr",
     "output_type": "stream",
     "text": [
      "/var/folders/08/_ldbqvz16j10d6w1jc1yxknr0000gn/T/ipykernel_60070/2740257287.py:76: FutureWarning: The frame.append method is deprecated and will be removed from pandas in a future version. Use pandas.concat instead.\n",
      "  final = final.append(temp)\n",
      "/var/folders/08/_ldbqvz16j10d6w1jc1yxknr0000gn/T/ipykernel_60070/2740257287.py:67: FutureWarning: The frame.append method is deprecated and will be removed from pandas in a future version. Use pandas.concat instead.\n",
      "  final = final.append(temp)\n",
      "/var/folders/08/_ldbqvz16j10d6w1jc1yxknr0000gn/T/ipykernel_60070/2740257287.py:67: FutureWarning: The frame.append method is deprecated and will be removed from pandas in a future version. Use pandas.concat instead.\n",
      "  final = final.append(temp)\n"
     ]
    },
    {
     "name": "stdout",
     "output_type": "stream",
     "text": [
      "mid\n",
      "down\n",
      "down\n"
     ]
    },
    {
     "name": "stderr",
     "output_type": "stream",
     "text": [
      "/var/folders/08/_ldbqvz16j10d6w1jc1yxknr0000gn/T/ipykernel_60070/2740257287.py:67: FutureWarning: The frame.append method is deprecated and will be removed from pandas in a future version. Use pandas.concat instead.\n",
      "  final = final.append(temp)\n",
      "/var/folders/08/_ldbqvz16j10d6w1jc1yxknr0000gn/T/ipykernel_60070/2740257287.py:67: FutureWarning: The frame.append method is deprecated and will be removed from pandas in a future version. Use pandas.concat instead.\n",
      "  final = final.append(temp)\n",
      "/var/folders/08/_ldbqvz16j10d6w1jc1yxknr0000gn/T/ipykernel_60070/2740257287.py:67: FutureWarning: The frame.append method is deprecated and will be removed from pandas in a future version. Use pandas.concat instead.\n",
      "  final = final.append(temp)\n"
     ]
    },
    {
     "name": "stdout",
     "output_type": "stream",
     "text": [
      "down\n",
      "down\n",
      "down\n"
     ]
    },
    {
     "name": "stderr",
     "output_type": "stream",
     "text": [
      "/var/folders/08/_ldbqvz16j10d6w1jc1yxknr0000gn/T/ipykernel_60070/2740257287.py:67: FutureWarning: The frame.append method is deprecated and will be removed from pandas in a future version. Use pandas.concat instead.\n",
      "  final = final.append(temp)\n",
      "/var/folders/08/_ldbqvz16j10d6w1jc1yxknr0000gn/T/ipykernel_60070/2740257287.py:67: FutureWarning: The frame.append method is deprecated and will be removed from pandas in a future version. Use pandas.concat instead.\n",
      "  final = final.append(temp)\n",
      "/var/folders/08/_ldbqvz16j10d6w1jc1yxknr0000gn/T/ipykernel_60070/2740257287.py:67: FutureWarning: The frame.append method is deprecated and will be removed from pandas in a future version. Use pandas.concat instead.\n",
      "  final = final.append(temp)\n"
     ]
    },
    {
     "name": "stdout",
     "output_type": "stream",
     "text": [
      "down\n",
      "down\n",
      "down\n"
     ]
    },
    {
     "name": "stderr",
     "output_type": "stream",
     "text": [
      "/var/folders/08/_ldbqvz16j10d6w1jc1yxknr0000gn/T/ipykernel_60070/2740257287.py:67: FutureWarning: The frame.append method is deprecated and will be removed from pandas in a future version. Use pandas.concat instead.\n",
      "  final = final.append(temp)\n",
      "/var/folders/08/_ldbqvz16j10d6w1jc1yxknr0000gn/T/ipykernel_60070/2740257287.py:67: FutureWarning: The frame.append method is deprecated and will be removed from pandas in a future version. Use pandas.concat instead.\n",
      "  final = final.append(temp)\n",
      "/var/folders/08/_ldbqvz16j10d6w1jc1yxknr0000gn/T/ipykernel_60070/2740257287.py:67: FutureWarning: The frame.append method is deprecated and will be removed from pandas in a future version. Use pandas.concat instead.\n",
      "  final = final.append(temp)\n"
     ]
    },
    {
     "name": "stdout",
     "output_type": "stream",
     "text": [
      "down\n",
      "down\n",
      "down\n"
     ]
    },
    {
     "name": "stderr",
     "output_type": "stream",
     "text": [
      "/var/folders/08/_ldbqvz16j10d6w1jc1yxknr0000gn/T/ipykernel_60070/2740257287.py:67: FutureWarning: The frame.append method is deprecated and will be removed from pandas in a future version. Use pandas.concat instead.\n",
      "  final = final.append(temp)\n",
      "/var/folders/08/_ldbqvz16j10d6w1jc1yxknr0000gn/T/ipykernel_60070/2740257287.py:67: FutureWarning: The frame.append method is deprecated and will be removed from pandas in a future version. Use pandas.concat instead.\n",
      "  final = final.append(temp)\n",
      "/var/folders/08/_ldbqvz16j10d6w1jc1yxknr0000gn/T/ipykernel_60070/2740257287.py:67: FutureWarning: The frame.append method is deprecated and will be removed from pandas in a future version. Use pandas.concat instead.\n",
      "  final = final.append(temp)\n"
     ]
    },
    {
     "name": "stdout",
     "output_type": "stream",
     "text": [
      "down\n",
      "down\n",
      "down\n"
     ]
    },
    {
     "name": "stderr",
     "output_type": "stream",
     "text": [
      "/var/folders/08/_ldbqvz16j10d6w1jc1yxknr0000gn/T/ipykernel_60070/2740257287.py:67: FutureWarning: The frame.append method is deprecated and will be removed from pandas in a future version. Use pandas.concat instead.\n",
      "  final = final.append(temp)\n",
      "/var/folders/08/_ldbqvz16j10d6w1jc1yxknr0000gn/T/ipykernel_60070/2740257287.py:67: FutureWarning: The frame.append method is deprecated and will be removed from pandas in a future version. Use pandas.concat instead.\n",
      "  final = final.append(temp)\n",
      "/var/folders/08/_ldbqvz16j10d6w1jc1yxknr0000gn/T/ipykernel_60070/2740257287.py:67: FutureWarning: The frame.append method is deprecated and will be removed from pandas in a future version. Use pandas.concat instead.\n",
      "  final = final.append(temp)\n"
     ]
    },
    {
     "name": "stdout",
     "output_type": "stream",
     "text": [
      "down\n",
      "down\n",
      "down\n"
     ]
    },
    {
     "name": "stderr",
     "output_type": "stream",
     "text": [
      "/var/folders/08/_ldbqvz16j10d6w1jc1yxknr0000gn/T/ipykernel_60070/2740257287.py:67: FutureWarning: The frame.append method is deprecated and will be removed from pandas in a future version. Use pandas.concat instead.\n",
      "  final = final.append(temp)\n",
      "/var/folders/08/_ldbqvz16j10d6w1jc1yxknr0000gn/T/ipykernel_60070/2740257287.py:67: FutureWarning: The frame.append method is deprecated and will be removed from pandas in a future version. Use pandas.concat instead.\n",
      "  final = final.append(temp)\n",
      "/var/folders/08/_ldbqvz16j10d6w1jc1yxknr0000gn/T/ipykernel_60070/2740257287.py:67: FutureWarning: The frame.append method is deprecated and will be removed from pandas in a future version. Use pandas.concat instead.\n",
      "  final = final.append(temp)\n"
     ]
    },
    {
     "name": "stdout",
     "output_type": "stream",
     "text": [
      "down\n",
      "down\n",
      "down\n"
     ]
    },
    {
     "name": "stderr",
     "output_type": "stream",
     "text": [
      "/var/folders/08/_ldbqvz16j10d6w1jc1yxknr0000gn/T/ipykernel_60070/2740257287.py:67: FutureWarning: The frame.append method is deprecated and will be removed from pandas in a future version. Use pandas.concat instead.\n",
      "  final = final.append(temp)\n",
      "/var/folders/08/_ldbqvz16j10d6w1jc1yxknr0000gn/T/ipykernel_60070/2740257287.py:67: FutureWarning: The frame.append method is deprecated and will be removed from pandas in a future version. Use pandas.concat instead.\n",
      "  final = final.append(temp)\n",
      "/var/folders/08/_ldbqvz16j10d6w1jc1yxknr0000gn/T/ipykernel_60070/2740257287.py:67: FutureWarning: The frame.append method is deprecated and will be removed from pandas in a future version. Use pandas.concat instead.\n",
      "  final = final.append(temp)\n"
     ]
    },
    {
     "name": "stdout",
     "output_type": "stream",
     "text": [
      "down\n",
      "down\n",
      "down\n"
     ]
    },
    {
     "name": "stderr",
     "output_type": "stream",
     "text": [
      "/var/folders/08/_ldbqvz16j10d6w1jc1yxknr0000gn/T/ipykernel_60070/2740257287.py:67: FutureWarning: The frame.append method is deprecated and will be removed from pandas in a future version. Use pandas.concat instead.\n",
      "  final = final.append(temp)\n",
      "/var/folders/08/_ldbqvz16j10d6w1jc1yxknr0000gn/T/ipykernel_60070/2740257287.py:67: FutureWarning: The frame.append method is deprecated and will be removed from pandas in a future version. Use pandas.concat instead.\n",
      "  final = final.append(temp)\n",
      "/var/folders/08/_ldbqvz16j10d6w1jc1yxknr0000gn/T/ipykernel_60070/2740257287.py:67: FutureWarning: The frame.append method is deprecated and will be removed from pandas in a future version. Use pandas.concat instead.\n",
      "  final = final.append(temp)\n"
     ]
    },
    {
     "name": "stdout",
     "output_type": "stream",
     "text": [
      "down\n",
      "down\n",
      "down\n"
     ]
    },
    {
     "name": "stderr",
     "output_type": "stream",
     "text": [
      "/var/folders/08/_ldbqvz16j10d6w1jc1yxknr0000gn/T/ipykernel_60070/2740257287.py:67: FutureWarning: The frame.append method is deprecated and will be removed from pandas in a future version. Use pandas.concat instead.\n",
      "  final = final.append(temp)\n",
      "/var/folders/08/_ldbqvz16j10d6w1jc1yxknr0000gn/T/ipykernel_60070/2740257287.py:67: FutureWarning: The frame.append method is deprecated and will be removed from pandas in a future version. Use pandas.concat instead.\n",
      "  final = final.append(temp)\n",
      "/var/folders/08/_ldbqvz16j10d6w1jc1yxknr0000gn/T/ipykernel_60070/2740257287.py:67: FutureWarning: The frame.append method is deprecated and will be removed from pandas in a future version. Use pandas.concat instead.\n",
      "  final = final.append(temp)\n"
     ]
    },
    {
     "name": "stdout",
     "output_type": "stream",
     "text": [
      "down\n",
      "down\n",
      "down\n"
     ]
    },
    {
     "name": "stderr",
     "output_type": "stream",
     "text": [
      "/var/folders/08/_ldbqvz16j10d6w1jc1yxknr0000gn/T/ipykernel_60070/2740257287.py:67: FutureWarning: The frame.append method is deprecated and will be removed from pandas in a future version. Use pandas.concat instead.\n",
      "  final = final.append(temp)\n",
      "/var/folders/08/_ldbqvz16j10d6w1jc1yxknr0000gn/T/ipykernel_60070/2740257287.py:67: FutureWarning: The frame.append method is deprecated and will be removed from pandas in a future version. Use pandas.concat instead.\n",
      "  final = final.append(temp)\n",
      "/var/folders/08/_ldbqvz16j10d6w1jc1yxknr0000gn/T/ipykernel_60070/2740257287.py:67: FutureWarning: The frame.append method is deprecated and will be removed from pandas in a future version. Use pandas.concat instead.\n",
      "  final = final.append(temp)\n"
     ]
    },
    {
     "name": "stdout",
     "output_type": "stream",
     "text": [
      "down\n",
      "down\n",
      "down\n"
     ]
    },
    {
     "name": "stderr",
     "output_type": "stream",
     "text": [
      "/var/folders/08/_ldbqvz16j10d6w1jc1yxknr0000gn/T/ipykernel_60070/2740257287.py:67: FutureWarning: The frame.append method is deprecated and will be removed from pandas in a future version. Use pandas.concat instead.\n",
      "  final = final.append(temp)\n",
      "/var/folders/08/_ldbqvz16j10d6w1jc1yxknr0000gn/T/ipykernel_60070/2740257287.py:67: FutureWarning: The frame.append method is deprecated and will be removed from pandas in a future version. Use pandas.concat instead.\n",
      "  final = final.append(temp)\n",
      "/var/folders/08/_ldbqvz16j10d6w1jc1yxknr0000gn/T/ipykernel_60070/2740257287.py:67: FutureWarning: The frame.append method is deprecated and will be removed from pandas in a future version. Use pandas.concat instead.\n",
      "  final = final.append(temp)\n"
     ]
    },
    {
     "name": "stdout",
     "output_type": "stream",
     "text": [
      "down\n",
      "down\n",
      "down\n"
     ]
    },
    {
     "name": "stderr",
     "output_type": "stream",
     "text": [
      "/var/folders/08/_ldbqvz16j10d6w1jc1yxknr0000gn/T/ipykernel_60070/2740257287.py:67: FutureWarning: The frame.append method is deprecated and will be removed from pandas in a future version. Use pandas.concat instead.\n",
      "  final = final.append(temp)\n",
      "/var/folders/08/_ldbqvz16j10d6w1jc1yxknr0000gn/T/ipykernel_60070/2740257287.py:67: FutureWarning: The frame.append method is deprecated and will be removed from pandas in a future version. Use pandas.concat instead.\n",
      "  final = final.append(temp)\n",
      "/var/folders/08/_ldbqvz16j10d6w1jc1yxknr0000gn/T/ipykernel_60070/2740257287.py:76: FutureWarning: The frame.append method is deprecated and will be removed from pandas in a future version. Use pandas.concat instead.\n",
      "  final = final.append(temp)\n"
     ]
    },
    {
     "name": "stdout",
     "output_type": "stream",
     "text": [
      "down\n",
      "down\n",
      "mid\n"
     ]
    },
    {
     "name": "stderr",
     "output_type": "stream",
     "text": [
      "/var/folders/08/_ldbqvz16j10d6w1jc1yxknr0000gn/T/ipykernel_60070/2740257287.py:76: FutureWarning: The frame.append method is deprecated and will be removed from pandas in a future version. Use pandas.concat instead.\n",
      "  final = final.append(temp)\n",
      "/var/folders/08/_ldbqvz16j10d6w1jc1yxknr0000gn/T/ipykernel_60070/2740257287.py:76: FutureWarning: The frame.append method is deprecated and will be removed from pandas in a future version. Use pandas.concat instead.\n",
      "  final = final.append(temp)\n",
      "/var/folders/08/_ldbqvz16j10d6w1jc1yxknr0000gn/T/ipykernel_60070/2740257287.py:76: FutureWarning: The frame.append method is deprecated and will be removed from pandas in a future version. Use pandas.concat instead.\n",
      "  final = final.append(temp)\n"
     ]
    },
    {
     "name": "stdout",
     "output_type": "stream",
     "text": [
      "mid\n",
      "mid\n",
      "mid\n"
     ]
    },
    {
     "name": "stderr",
     "output_type": "stream",
     "text": [
      "/var/folders/08/_ldbqvz16j10d6w1jc1yxknr0000gn/T/ipykernel_60070/2740257287.py:76: FutureWarning: The frame.append method is deprecated and will be removed from pandas in a future version. Use pandas.concat instead.\n",
      "  final = final.append(temp)\n",
      "/var/folders/08/_ldbqvz16j10d6w1jc1yxknr0000gn/T/ipykernel_60070/2740257287.py:76: FutureWarning: The frame.append method is deprecated and will be removed from pandas in a future version. Use pandas.concat instead.\n",
      "  final = final.append(temp)\n",
      "/var/folders/08/_ldbqvz16j10d6w1jc1yxknr0000gn/T/ipykernel_60070/2740257287.py:76: FutureWarning: The frame.append method is deprecated and will be removed from pandas in a future version. Use pandas.concat instead.\n",
      "  final = final.append(temp)\n"
     ]
    },
    {
     "name": "stdout",
     "output_type": "stream",
     "text": [
      "mid\n",
      "mid\n",
      "mid\n"
     ]
    },
    {
     "name": "stderr",
     "output_type": "stream",
     "text": [
      "/var/folders/08/_ldbqvz16j10d6w1jc1yxknr0000gn/T/ipykernel_60070/2740257287.py:76: FutureWarning: The frame.append method is deprecated and will be removed from pandas in a future version. Use pandas.concat instead.\n",
      "  final = final.append(temp)\n",
      "/var/folders/08/_ldbqvz16j10d6w1jc1yxknr0000gn/T/ipykernel_60070/2740257287.py:76: FutureWarning: The frame.append method is deprecated and will be removed from pandas in a future version. Use pandas.concat instead.\n",
      "  final = final.append(temp)\n",
      "/var/folders/08/_ldbqvz16j10d6w1jc1yxknr0000gn/T/ipykernel_60070/2740257287.py:76: FutureWarning: The frame.append method is deprecated and will be removed from pandas in a future version. Use pandas.concat instead.\n",
      "  final = final.append(temp)\n"
     ]
    },
    {
     "name": "stdout",
     "output_type": "stream",
     "text": [
      "mid\n",
      "mid\n",
      "mid\n"
     ]
    },
    {
     "name": "stderr",
     "output_type": "stream",
     "text": [
      "/var/folders/08/_ldbqvz16j10d6w1jc1yxknr0000gn/T/ipykernel_60070/2740257287.py:76: FutureWarning: The frame.append method is deprecated and will be removed from pandas in a future version. Use pandas.concat instead.\n",
      "  final = final.append(temp)\n",
      "/var/folders/08/_ldbqvz16j10d6w1jc1yxknr0000gn/T/ipykernel_60070/2740257287.py:76: FutureWarning: The frame.append method is deprecated and will be removed from pandas in a future version. Use pandas.concat instead.\n",
      "  final = final.append(temp)\n",
      "/var/folders/08/_ldbqvz16j10d6w1jc1yxknr0000gn/T/ipykernel_60070/2740257287.py:76: FutureWarning: The frame.append method is deprecated and will be removed from pandas in a future version. Use pandas.concat instead.\n",
      "  final = final.append(temp)\n"
     ]
    },
    {
     "name": "stdout",
     "output_type": "stream",
     "text": [
      "mid\n",
      "mid\n",
      "mid\n"
     ]
    },
    {
     "name": "stderr",
     "output_type": "stream",
     "text": [
      "/var/folders/08/_ldbqvz16j10d6w1jc1yxknr0000gn/T/ipykernel_60070/2740257287.py:76: FutureWarning: The frame.append method is deprecated and will be removed from pandas in a future version. Use pandas.concat instead.\n",
      "  final = final.append(temp)\n",
      "/var/folders/08/_ldbqvz16j10d6w1jc1yxknr0000gn/T/ipykernel_60070/2740257287.py:58: FutureWarning: The frame.append method is deprecated and will be removed from pandas in a future version. Use pandas.concat instead.\n",
      "  final = final.append(temp)\n",
      "/var/folders/08/_ldbqvz16j10d6w1jc1yxknr0000gn/T/ipykernel_60070/2740257287.py:58: FutureWarning: The frame.append method is deprecated and will be removed from pandas in a future version. Use pandas.concat instead.\n",
      "  final = final.append(temp)\n"
     ]
    },
    {
     "name": "stdout",
     "output_type": "stream",
     "text": [
      "mid\n",
      "up\n",
      "up\n"
     ]
    },
    {
     "name": "stderr",
     "output_type": "stream",
     "text": [
      "/var/folders/08/_ldbqvz16j10d6w1jc1yxknr0000gn/T/ipykernel_60070/2740257287.py:58: FutureWarning: The frame.append method is deprecated and will be removed from pandas in a future version. Use pandas.concat instead.\n",
      "  final = final.append(temp)\n",
      "/var/folders/08/_ldbqvz16j10d6w1jc1yxknr0000gn/T/ipykernel_60070/2740257287.py:58: FutureWarning: The frame.append method is deprecated and will be removed from pandas in a future version. Use pandas.concat instead.\n",
      "  final = final.append(temp)\n",
      "/var/folders/08/_ldbqvz16j10d6w1jc1yxknr0000gn/T/ipykernel_60070/2740257287.py:58: FutureWarning: The frame.append method is deprecated and will be removed from pandas in a future version. Use pandas.concat instead.\n",
      "  final = final.append(temp)\n"
     ]
    },
    {
     "name": "stdout",
     "output_type": "stream",
     "text": [
      "up\n",
      "up\n",
      "up\n"
     ]
    },
    {
     "name": "stderr",
     "output_type": "stream",
     "text": [
      "/var/folders/08/_ldbqvz16j10d6w1jc1yxknr0000gn/T/ipykernel_60070/2740257287.py:58: FutureWarning: The frame.append method is deprecated and will be removed from pandas in a future version. Use pandas.concat instead.\n",
      "  final = final.append(temp)\n",
      "/var/folders/08/_ldbqvz16j10d6w1jc1yxknr0000gn/T/ipykernel_60070/2740257287.py:58: FutureWarning: The frame.append method is deprecated and will be removed from pandas in a future version. Use pandas.concat instead.\n",
      "  final = final.append(temp)\n",
      "/var/folders/08/_ldbqvz16j10d6w1jc1yxknr0000gn/T/ipykernel_60070/2740257287.py:58: FutureWarning: The frame.append method is deprecated and will be removed from pandas in a future version. Use pandas.concat instead.\n",
      "  final = final.append(temp)\n"
     ]
    },
    {
     "name": "stdout",
     "output_type": "stream",
     "text": [
      "up\n",
      "up\n",
      "up\n"
     ]
    },
    {
     "name": "stderr",
     "output_type": "stream",
     "text": [
      "/var/folders/08/_ldbqvz16j10d6w1jc1yxknr0000gn/T/ipykernel_60070/2740257287.py:58: FutureWarning: The frame.append method is deprecated and will be removed from pandas in a future version. Use pandas.concat instead.\n",
      "  final = final.append(temp)\n",
      "/var/folders/08/_ldbqvz16j10d6w1jc1yxknr0000gn/T/ipykernel_60070/2740257287.py:58: FutureWarning: The frame.append method is deprecated and will be removed from pandas in a future version. Use pandas.concat instead.\n",
      "  final = final.append(temp)\n",
      "/var/folders/08/_ldbqvz16j10d6w1jc1yxknr0000gn/T/ipykernel_60070/2740257287.py:58: FutureWarning: The frame.append method is deprecated and will be removed from pandas in a future version. Use pandas.concat instead.\n",
      "  final = final.append(temp)\n"
     ]
    },
    {
     "name": "stdout",
     "output_type": "stream",
     "text": [
      "up\n",
      "up\n",
      "up\n"
     ]
    },
    {
     "name": "stderr",
     "output_type": "stream",
     "text": [
      "/var/folders/08/_ldbqvz16j10d6w1jc1yxknr0000gn/T/ipykernel_60070/2740257287.py:58: FutureWarning: The frame.append method is deprecated and will be removed from pandas in a future version. Use pandas.concat instead.\n",
      "  final = final.append(temp)\n",
      "/var/folders/08/_ldbqvz16j10d6w1jc1yxknr0000gn/T/ipykernel_60070/2740257287.py:58: FutureWarning: The frame.append method is deprecated and will be removed from pandas in a future version. Use pandas.concat instead.\n",
      "  final = final.append(temp)\n",
      "/var/folders/08/_ldbqvz16j10d6w1jc1yxknr0000gn/T/ipykernel_60070/2740257287.py:58: FutureWarning: The frame.append method is deprecated and will be removed from pandas in a future version. Use pandas.concat instead.\n",
      "  final = final.append(temp)\n"
     ]
    },
    {
     "name": "stdout",
     "output_type": "stream",
     "text": [
      "up\n",
      "up\n",
      "up\n"
     ]
    },
    {
     "name": "stderr",
     "output_type": "stream",
     "text": [
      "/var/folders/08/_ldbqvz16j10d6w1jc1yxknr0000gn/T/ipykernel_60070/2740257287.py:58: FutureWarning: The frame.append method is deprecated and will be removed from pandas in a future version. Use pandas.concat instead.\n",
      "  final = final.append(temp)\n",
      "/var/folders/08/_ldbqvz16j10d6w1jc1yxknr0000gn/T/ipykernel_60070/2740257287.py:58: FutureWarning: The frame.append method is deprecated and will be removed from pandas in a future version. Use pandas.concat instead.\n",
      "  final = final.append(temp)\n",
      "/var/folders/08/_ldbqvz16j10d6w1jc1yxknr0000gn/T/ipykernel_60070/2740257287.py:58: FutureWarning: The frame.append method is deprecated and will be removed from pandas in a future version. Use pandas.concat instead.\n",
      "  final = final.append(temp)\n"
     ]
    },
    {
     "name": "stdout",
     "output_type": "stream",
     "text": [
      "up\n",
      "up\n",
      "up\n"
     ]
    },
    {
     "name": "stderr",
     "output_type": "stream",
     "text": [
      "/var/folders/08/_ldbqvz16j10d6w1jc1yxknr0000gn/T/ipykernel_60070/2740257287.py:58: FutureWarning: The frame.append method is deprecated and will be removed from pandas in a future version. Use pandas.concat instead.\n",
      "  final = final.append(temp)\n",
      "/var/folders/08/_ldbqvz16j10d6w1jc1yxknr0000gn/T/ipykernel_60070/2740257287.py:58: FutureWarning: The frame.append method is deprecated and will be removed from pandas in a future version. Use pandas.concat instead.\n",
      "  final = final.append(temp)\n",
      "/var/folders/08/_ldbqvz16j10d6w1jc1yxknr0000gn/T/ipykernel_60070/2740257287.py:58: FutureWarning: The frame.append method is deprecated and will be removed from pandas in a future version. Use pandas.concat instead.\n",
      "  final = final.append(temp)\n"
     ]
    },
    {
     "name": "stdout",
     "output_type": "stream",
     "text": [
      "up\n",
      "up\n",
      "up\n"
     ]
    },
    {
     "name": "stderr",
     "output_type": "stream",
     "text": [
      "/var/folders/08/_ldbqvz16j10d6w1jc1yxknr0000gn/T/ipykernel_60070/2740257287.py:58: FutureWarning: The frame.append method is deprecated and will be removed from pandas in a future version. Use pandas.concat instead.\n",
      "  final = final.append(temp)\n",
      "/var/folders/08/_ldbqvz16j10d6w1jc1yxknr0000gn/T/ipykernel_60070/2740257287.py:58: FutureWarning: The frame.append method is deprecated and will be removed from pandas in a future version. Use pandas.concat instead.\n",
      "  final = final.append(temp)\n",
      "/var/folders/08/_ldbqvz16j10d6w1jc1yxknr0000gn/T/ipykernel_60070/2740257287.py:58: FutureWarning: The frame.append method is deprecated and will be removed from pandas in a future version. Use pandas.concat instead.\n",
      "  final = final.append(temp)\n"
     ]
    },
    {
     "name": "stdout",
     "output_type": "stream",
     "text": [
      "up\n",
      "up\n",
      "up\n"
     ]
    },
    {
     "name": "stderr",
     "output_type": "stream",
     "text": [
      "/var/folders/08/_ldbqvz16j10d6w1jc1yxknr0000gn/T/ipykernel_60070/2740257287.py:58: FutureWarning: The frame.append method is deprecated and will be removed from pandas in a future version. Use pandas.concat instead.\n",
      "  final = final.append(temp)\n",
      "/var/folders/08/_ldbqvz16j10d6w1jc1yxknr0000gn/T/ipykernel_60070/2740257287.py:58: FutureWarning: The frame.append method is deprecated and will be removed from pandas in a future version. Use pandas.concat instead.\n",
      "  final = final.append(temp)\n",
      "/var/folders/08/_ldbqvz16j10d6w1jc1yxknr0000gn/T/ipykernel_60070/2740257287.py:58: FutureWarning: The frame.append method is deprecated and will be removed from pandas in a future version. Use pandas.concat instead.\n",
      "  final = final.append(temp)\n"
     ]
    },
    {
     "name": "stdout",
     "output_type": "stream",
     "text": [
      "up\n",
      "up\n",
      "up\n"
     ]
    },
    {
     "name": "stderr",
     "output_type": "stream",
     "text": [
      "/var/folders/08/_ldbqvz16j10d6w1jc1yxknr0000gn/T/ipykernel_60070/2740257287.py:58: FutureWarning: The frame.append method is deprecated and will be removed from pandas in a future version. Use pandas.concat instead.\n",
      "  final = final.append(temp)\n",
      "/var/folders/08/_ldbqvz16j10d6w1jc1yxknr0000gn/T/ipykernel_60070/2740257287.py:58: FutureWarning: The frame.append method is deprecated and will be removed from pandas in a future version. Use pandas.concat instead.\n",
      "  final = final.append(temp)\n",
      "/var/folders/08/_ldbqvz16j10d6w1jc1yxknr0000gn/T/ipykernel_60070/2740257287.py:58: FutureWarning: The frame.append method is deprecated and will be removed from pandas in a future version. Use pandas.concat instead.\n",
      "  final = final.append(temp)\n"
     ]
    },
    {
     "name": "stdout",
     "output_type": "stream",
     "text": [
      "up\n",
      "up\n",
      "up\n"
     ]
    },
    {
     "name": "stderr",
     "output_type": "stream",
     "text": [
      "/var/folders/08/_ldbqvz16j10d6w1jc1yxknr0000gn/T/ipykernel_60070/2740257287.py:58: FutureWarning: The frame.append method is deprecated and will be removed from pandas in a future version. Use pandas.concat instead.\n",
      "  final = final.append(temp)\n",
      "/var/folders/08/_ldbqvz16j10d6w1jc1yxknr0000gn/T/ipykernel_60070/2740257287.py:58: FutureWarning: The frame.append method is deprecated and will be removed from pandas in a future version. Use pandas.concat instead.\n",
      "  final = final.append(temp)\n",
      "/var/folders/08/_ldbqvz16j10d6w1jc1yxknr0000gn/T/ipykernel_60070/2740257287.py:58: FutureWarning: The frame.append method is deprecated and will be removed from pandas in a future version. Use pandas.concat instead.\n",
      "  final = final.append(temp)\n"
     ]
    },
    {
     "name": "stdout",
     "output_type": "stream",
     "text": [
      "up\n",
      "up\n",
      "up\n"
     ]
    },
    {
     "name": "stderr",
     "output_type": "stream",
     "text": [
      "/var/folders/08/_ldbqvz16j10d6w1jc1yxknr0000gn/T/ipykernel_60070/2740257287.py:58: FutureWarning: The frame.append method is deprecated and will be removed from pandas in a future version. Use pandas.concat instead.\n",
      "  final = final.append(temp)\n",
      "/var/folders/08/_ldbqvz16j10d6w1jc1yxknr0000gn/T/ipykernel_60070/2740257287.py:58: FutureWarning: The frame.append method is deprecated and will be removed from pandas in a future version. Use pandas.concat instead.\n",
      "  final = final.append(temp)\n",
      "/var/folders/08/_ldbqvz16j10d6w1jc1yxknr0000gn/T/ipykernel_60070/2740257287.py:58: FutureWarning: The frame.append method is deprecated and will be removed from pandas in a future version. Use pandas.concat instead.\n",
      "  final = final.append(temp)\n"
     ]
    },
    {
     "name": "stdout",
     "output_type": "stream",
     "text": [
      "up\n",
      "up\n",
      "up\n"
     ]
    },
    {
     "name": "stderr",
     "output_type": "stream",
     "text": [
      "/var/folders/08/_ldbqvz16j10d6w1jc1yxknr0000gn/T/ipykernel_60070/2740257287.py:58: FutureWarning: The frame.append method is deprecated and will be removed from pandas in a future version. Use pandas.concat instead.\n",
      "  final = final.append(temp)\n",
      "/var/folders/08/_ldbqvz16j10d6w1jc1yxknr0000gn/T/ipykernel_60070/2740257287.py:58: FutureWarning: The frame.append method is deprecated and will be removed from pandas in a future version. Use pandas.concat instead.\n",
      "  final = final.append(temp)\n",
      "/var/folders/08/_ldbqvz16j10d6w1jc1yxknr0000gn/T/ipykernel_60070/2740257287.py:58: FutureWarning: The frame.append method is deprecated and will be removed from pandas in a future version. Use pandas.concat instead.\n",
      "  final = final.append(temp)\n"
     ]
    },
    {
     "name": "stdout",
     "output_type": "stream",
     "text": [
      "up\n",
      "up\n",
      "up\n"
     ]
    },
    {
     "name": "stderr",
     "output_type": "stream",
     "text": [
      "/var/folders/08/_ldbqvz16j10d6w1jc1yxknr0000gn/T/ipykernel_60070/2740257287.py:58: FutureWarning: The frame.append method is deprecated and will be removed from pandas in a future version. Use pandas.concat instead.\n",
      "  final = final.append(temp)\n",
      "/var/folders/08/_ldbqvz16j10d6w1jc1yxknr0000gn/T/ipykernel_60070/2740257287.py:58: FutureWarning: The frame.append method is deprecated and will be removed from pandas in a future version. Use pandas.concat instead.\n",
      "  final = final.append(temp)\n",
      "/var/folders/08/_ldbqvz16j10d6w1jc1yxknr0000gn/T/ipykernel_60070/2740257287.py:58: FutureWarning: The frame.append method is deprecated and will be removed from pandas in a future version. Use pandas.concat instead.\n",
      "  final = final.append(temp)\n"
     ]
    },
    {
     "name": "stdout",
     "output_type": "stream",
     "text": [
      "up\n",
      "up\n",
      "up\n"
     ]
    },
    {
     "name": "stderr",
     "output_type": "stream",
     "text": [
      "/var/folders/08/_ldbqvz16j10d6w1jc1yxknr0000gn/T/ipykernel_60070/2740257287.py:58: FutureWarning: The frame.append method is deprecated and will be removed from pandas in a future version. Use pandas.concat instead.\n",
      "  final = final.append(temp)\n",
      "/var/folders/08/_ldbqvz16j10d6w1jc1yxknr0000gn/T/ipykernel_60070/2740257287.py:58: FutureWarning: The frame.append method is deprecated and will be removed from pandas in a future version. Use pandas.concat instead.\n",
      "  final = final.append(temp)\n",
      "/var/folders/08/_ldbqvz16j10d6w1jc1yxknr0000gn/T/ipykernel_60070/2740257287.py:58: FutureWarning: The frame.append method is deprecated and will be removed from pandas in a future version. Use pandas.concat instead.\n",
      "  final = final.append(temp)\n"
     ]
    },
    {
     "name": "stdout",
     "output_type": "stream",
     "text": [
      "up\n",
      "up\n",
      "up\n"
     ]
    },
    {
     "name": "stderr",
     "output_type": "stream",
     "text": [
      "/var/folders/08/_ldbqvz16j10d6w1jc1yxknr0000gn/T/ipykernel_60070/2740257287.py:58: FutureWarning: The frame.append method is deprecated and will be removed from pandas in a future version. Use pandas.concat instead.\n",
      "  final = final.append(temp)\n",
      "/var/folders/08/_ldbqvz16j10d6w1jc1yxknr0000gn/T/ipykernel_60070/2740257287.py:58: FutureWarning: The frame.append method is deprecated and will be removed from pandas in a future version. Use pandas.concat instead.\n",
      "  final = final.append(temp)\n",
      "/var/folders/08/_ldbqvz16j10d6w1jc1yxknr0000gn/T/ipykernel_60070/2740257287.py:58: FutureWarning: The frame.append method is deprecated and will be removed from pandas in a future version. Use pandas.concat instead.\n",
      "  final = final.append(temp)\n"
     ]
    },
    {
     "name": "stdout",
     "output_type": "stream",
     "text": [
      "up\n",
      "up\n",
      "up\n"
     ]
    },
    {
     "name": "stderr",
     "output_type": "stream",
     "text": [
      "/var/folders/08/_ldbqvz16j10d6w1jc1yxknr0000gn/T/ipykernel_60070/2740257287.py:58: FutureWarning: The frame.append method is deprecated and will be removed from pandas in a future version. Use pandas.concat instead.\n",
      "  final = final.append(temp)\n",
      "/var/folders/08/_ldbqvz16j10d6w1jc1yxknr0000gn/T/ipykernel_60070/2740257287.py:58: FutureWarning: The frame.append method is deprecated and will be removed from pandas in a future version. Use pandas.concat instead.\n",
      "  final = final.append(temp)\n",
      "/var/folders/08/_ldbqvz16j10d6w1jc1yxknr0000gn/T/ipykernel_60070/2740257287.py:58: FutureWarning: The frame.append method is deprecated and will be removed from pandas in a future version. Use pandas.concat instead.\n",
      "  final = final.append(temp)\n"
     ]
    },
    {
     "name": "stdout",
     "output_type": "stream",
     "text": [
      "up\n",
      "up\n",
      "up\n"
     ]
    },
    {
     "name": "stderr",
     "output_type": "stream",
     "text": [
      "/var/folders/08/_ldbqvz16j10d6w1jc1yxknr0000gn/T/ipykernel_60070/2740257287.py:58: FutureWarning: The frame.append method is deprecated and will be removed from pandas in a future version. Use pandas.concat instead.\n",
      "  final = final.append(temp)\n",
      "/var/folders/08/_ldbqvz16j10d6w1jc1yxknr0000gn/T/ipykernel_60070/2740257287.py:58: FutureWarning: The frame.append method is deprecated and will be removed from pandas in a future version. Use pandas.concat instead.\n",
      "  final = final.append(temp)\n",
      "/var/folders/08/_ldbqvz16j10d6w1jc1yxknr0000gn/T/ipykernel_60070/2740257287.py:58: FutureWarning: The frame.append method is deprecated and will be removed from pandas in a future version. Use pandas.concat instead.\n",
      "  final = final.append(temp)\n"
     ]
    },
    {
     "name": "stdout",
     "output_type": "stream",
     "text": [
      "up\n",
      "up\n",
      "up\n"
     ]
    },
    {
     "name": "stderr",
     "output_type": "stream",
     "text": [
      "/var/folders/08/_ldbqvz16j10d6w1jc1yxknr0000gn/T/ipykernel_60070/2740257287.py:58: FutureWarning: The frame.append method is deprecated and will be removed from pandas in a future version. Use pandas.concat instead.\n",
      "  final = final.append(temp)\n",
      "/var/folders/08/_ldbqvz16j10d6w1jc1yxknr0000gn/T/ipykernel_60070/2740257287.py:58: FutureWarning: The frame.append method is deprecated and will be removed from pandas in a future version. Use pandas.concat instead.\n",
      "  final = final.append(temp)\n",
      "/var/folders/08/_ldbqvz16j10d6w1jc1yxknr0000gn/T/ipykernel_60070/2740257287.py:58: FutureWarning: The frame.append method is deprecated and will be removed from pandas in a future version. Use pandas.concat instead.\n",
      "  final = final.append(temp)\n"
     ]
    },
    {
     "name": "stdout",
     "output_type": "stream",
     "text": [
      "up\n",
      "up\n",
      "up\n"
     ]
    },
    {
     "name": "stderr",
     "output_type": "stream",
     "text": [
      "/var/folders/08/_ldbqvz16j10d6w1jc1yxknr0000gn/T/ipykernel_60070/2740257287.py:58: FutureWarning: The frame.append method is deprecated and will be removed from pandas in a future version. Use pandas.concat instead.\n",
      "  final = final.append(temp)\n",
      "/var/folders/08/_ldbqvz16j10d6w1jc1yxknr0000gn/T/ipykernel_60070/2740257287.py:58: FutureWarning: The frame.append method is deprecated and will be removed from pandas in a future version. Use pandas.concat instead.\n",
      "  final = final.append(temp)\n",
      "/var/folders/08/_ldbqvz16j10d6w1jc1yxknr0000gn/T/ipykernel_60070/2740257287.py:58: FutureWarning: The frame.append method is deprecated and will be removed from pandas in a future version. Use pandas.concat instead.\n",
      "  final = final.append(temp)\n"
     ]
    },
    {
     "name": "stdout",
     "output_type": "stream",
     "text": [
      "up\n",
      "up\n",
      "up\n"
     ]
    },
    {
     "name": "stderr",
     "output_type": "stream",
     "text": [
      "/var/folders/08/_ldbqvz16j10d6w1jc1yxknr0000gn/T/ipykernel_60070/2740257287.py:58: FutureWarning: The frame.append method is deprecated and will be removed from pandas in a future version. Use pandas.concat instead.\n",
      "  final = final.append(temp)\n",
      "/var/folders/08/_ldbqvz16j10d6w1jc1yxknr0000gn/T/ipykernel_60070/2740257287.py:58: FutureWarning: The frame.append method is deprecated and will be removed from pandas in a future version. Use pandas.concat instead.\n",
      "  final = final.append(temp)\n",
      "/var/folders/08/_ldbqvz16j10d6w1jc1yxknr0000gn/T/ipykernel_60070/2740257287.py:58: FutureWarning: The frame.append method is deprecated and will be removed from pandas in a future version. Use pandas.concat instead.\n",
      "  final = final.append(temp)\n"
     ]
    },
    {
     "name": "stdout",
     "output_type": "stream",
     "text": [
      "up\n",
      "up\n",
      "up\n"
     ]
    },
    {
     "name": "stderr",
     "output_type": "stream",
     "text": [
      "/var/folders/08/_ldbqvz16j10d6w1jc1yxknr0000gn/T/ipykernel_60070/2740257287.py:58: FutureWarning: The frame.append method is deprecated and will be removed from pandas in a future version. Use pandas.concat instead.\n",
      "  final = final.append(temp)\n",
      "/var/folders/08/_ldbqvz16j10d6w1jc1yxknr0000gn/T/ipykernel_60070/2740257287.py:58: FutureWarning: The frame.append method is deprecated and will be removed from pandas in a future version. Use pandas.concat instead.\n",
      "  final = final.append(temp)\n",
      "/var/folders/08/_ldbqvz16j10d6w1jc1yxknr0000gn/T/ipykernel_60070/2740257287.py:58: FutureWarning: The frame.append method is deprecated and will be removed from pandas in a future version. Use pandas.concat instead.\n",
      "  final = final.append(temp)\n"
     ]
    },
    {
     "name": "stdout",
     "output_type": "stream",
     "text": [
      "up\n",
      "up\n",
      "up\n"
     ]
    },
    {
     "name": "stderr",
     "output_type": "stream",
     "text": [
      "/var/folders/08/_ldbqvz16j10d6w1jc1yxknr0000gn/T/ipykernel_60070/2740257287.py:58: FutureWarning: The frame.append method is deprecated and will be removed from pandas in a future version. Use pandas.concat instead.\n",
      "  final = final.append(temp)\n",
      "/var/folders/08/_ldbqvz16j10d6w1jc1yxknr0000gn/T/ipykernel_60070/2740257287.py:58: FutureWarning: The frame.append method is deprecated and will be removed from pandas in a future version. Use pandas.concat instead.\n",
      "  final = final.append(temp)\n",
      "/var/folders/08/_ldbqvz16j10d6w1jc1yxknr0000gn/T/ipykernel_60070/2740257287.py:58: FutureWarning: The frame.append method is deprecated and will be removed from pandas in a future version. Use pandas.concat instead.\n",
      "  final = final.append(temp)\n"
     ]
    },
    {
     "name": "stdout",
     "output_type": "stream",
     "text": [
      "up\n",
      "up\n",
      "up\n"
     ]
    },
    {
     "name": "stderr",
     "output_type": "stream",
     "text": [
      "/var/folders/08/_ldbqvz16j10d6w1jc1yxknr0000gn/T/ipykernel_60070/2740257287.py:58: FutureWarning: The frame.append method is deprecated and will be removed from pandas in a future version. Use pandas.concat instead.\n",
      "  final = final.append(temp)\n",
      "/var/folders/08/_ldbqvz16j10d6w1jc1yxknr0000gn/T/ipykernel_60070/2740257287.py:58: FutureWarning: The frame.append method is deprecated and will be removed from pandas in a future version. Use pandas.concat instead.\n",
      "  final = final.append(temp)\n",
      "/var/folders/08/_ldbqvz16j10d6w1jc1yxknr0000gn/T/ipykernel_60070/2740257287.py:58: FutureWarning: The frame.append method is deprecated and will be removed from pandas in a future version. Use pandas.concat instead.\n",
      "  final = final.append(temp)\n"
     ]
    },
    {
     "name": "stdout",
     "output_type": "stream",
     "text": [
      "up\n",
      "up\n",
      "up\n"
     ]
    },
    {
     "name": "stderr",
     "output_type": "stream",
     "text": [
      "/var/folders/08/_ldbqvz16j10d6w1jc1yxknr0000gn/T/ipykernel_60070/2740257287.py:58: FutureWarning: The frame.append method is deprecated and will be removed from pandas in a future version. Use pandas.concat instead.\n",
      "  final = final.append(temp)\n",
      "/var/folders/08/_ldbqvz16j10d6w1jc1yxknr0000gn/T/ipykernel_60070/2740257287.py:58: FutureWarning: The frame.append method is deprecated and will be removed from pandas in a future version. Use pandas.concat instead.\n",
      "  final = final.append(temp)\n",
      "/var/folders/08/_ldbqvz16j10d6w1jc1yxknr0000gn/T/ipykernel_60070/2740257287.py:58: FutureWarning: The frame.append method is deprecated and will be removed from pandas in a future version. Use pandas.concat instead.\n",
      "  final = final.append(temp)\n"
     ]
    },
    {
     "name": "stdout",
     "output_type": "stream",
     "text": [
      "up\n",
      "up\n",
      "up\n"
     ]
    },
    {
     "name": "stderr",
     "output_type": "stream",
     "text": [
      "/var/folders/08/_ldbqvz16j10d6w1jc1yxknr0000gn/T/ipykernel_60070/2740257287.py:58: FutureWarning: The frame.append method is deprecated and will be removed from pandas in a future version. Use pandas.concat instead.\n",
      "  final = final.append(temp)\n",
      "/var/folders/08/_ldbqvz16j10d6w1jc1yxknr0000gn/T/ipykernel_60070/2740257287.py:58: FutureWarning: The frame.append method is deprecated and will be removed from pandas in a future version. Use pandas.concat instead.\n",
      "  final = final.append(temp)\n",
      "/var/folders/08/_ldbqvz16j10d6w1jc1yxknr0000gn/T/ipykernel_60070/2740257287.py:58: FutureWarning: The frame.append method is deprecated and will be removed from pandas in a future version. Use pandas.concat instead.\n",
      "  final = final.append(temp)\n"
     ]
    },
    {
     "name": "stdout",
     "output_type": "stream",
     "text": [
      "up\n",
      "up\n",
      "up\n"
     ]
    },
    {
     "name": "stderr",
     "output_type": "stream",
     "text": [
      "/var/folders/08/_ldbqvz16j10d6w1jc1yxknr0000gn/T/ipykernel_60070/2740257287.py:58: FutureWarning: The frame.append method is deprecated and will be removed from pandas in a future version. Use pandas.concat instead.\n",
      "  final = final.append(temp)\n",
      "/var/folders/08/_ldbqvz16j10d6w1jc1yxknr0000gn/T/ipykernel_60070/2740257287.py:58: FutureWarning: The frame.append method is deprecated and will be removed from pandas in a future version. Use pandas.concat instead.\n",
      "  final = final.append(temp)\n",
      "/var/folders/08/_ldbqvz16j10d6w1jc1yxknr0000gn/T/ipykernel_60070/2740257287.py:58: FutureWarning: The frame.append method is deprecated and will be removed from pandas in a future version. Use pandas.concat instead.\n",
      "  final = final.append(temp)\n"
     ]
    },
    {
     "name": "stdout",
     "output_type": "stream",
     "text": [
      "up\n",
      "up\n",
      "up\n"
     ]
    },
    {
     "name": "stderr",
     "output_type": "stream",
     "text": [
      "/var/folders/08/_ldbqvz16j10d6w1jc1yxknr0000gn/T/ipykernel_60070/2740257287.py:76: FutureWarning: The frame.append method is deprecated and will be removed from pandas in a future version. Use pandas.concat instead.\n",
      "  final = final.append(temp)\n",
      "/var/folders/08/_ldbqvz16j10d6w1jc1yxknr0000gn/T/ipykernel_60070/2740257287.py:76: FutureWarning: The frame.append method is deprecated and will be removed from pandas in a future version. Use pandas.concat instead.\n",
      "  final = final.append(temp)\n",
      "/var/folders/08/_ldbqvz16j10d6w1jc1yxknr0000gn/T/ipykernel_60070/2740257287.py:76: FutureWarning: The frame.append method is deprecated and will be removed from pandas in a future version. Use pandas.concat instead.\n",
      "  final = final.append(temp)\n"
     ]
    },
    {
     "name": "stdout",
     "output_type": "stream",
     "text": [
      "mid\n",
      "mid\n",
      "mid\n"
     ]
    },
    {
     "name": "stderr",
     "output_type": "stream",
     "text": [
      "/var/folders/08/_ldbqvz16j10d6w1jc1yxknr0000gn/T/ipykernel_60070/2740257287.py:76: FutureWarning: The frame.append method is deprecated and will be removed from pandas in a future version. Use pandas.concat instead.\n",
      "  final = final.append(temp)\n",
      "/var/folders/08/_ldbqvz16j10d6w1jc1yxknr0000gn/T/ipykernel_60070/2740257287.py:76: FutureWarning: The frame.append method is deprecated and will be removed from pandas in a future version. Use pandas.concat instead.\n",
      "  final = final.append(temp)\n",
      "/var/folders/08/_ldbqvz16j10d6w1jc1yxknr0000gn/T/ipykernel_60070/2740257287.py:76: FutureWarning: The frame.append method is deprecated and will be removed from pandas in a future version. Use pandas.concat instead.\n",
      "  final = final.append(temp)\n"
     ]
    },
    {
     "name": "stdout",
     "output_type": "stream",
     "text": [
      "mid\n",
      "mid\n",
      "mid\n"
     ]
    },
    {
     "name": "stderr",
     "output_type": "stream",
     "text": [
      "/var/folders/08/_ldbqvz16j10d6w1jc1yxknr0000gn/T/ipykernel_60070/2740257287.py:76: FutureWarning: The frame.append method is deprecated and will be removed from pandas in a future version. Use pandas.concat instead.\n",
      "  final = final.append(temp)\n",
      "/var/folders/08/_ldbqvz16j10d6w1jc1yxknr0000gn/T/ipykernel_60070/2740257287.py:76: FutureWarning: The frame.append method is deprecated and will be removed from pandas in a future version. Use pandas.concat instead.\n",
      "  final = final.append(temp)\n",
      "/var/folders/08/_ldbqvz16j10d6w1jc1yxknr0000gn/T/ipykernel_60070/2740257287.py:76: FutureWarning: The frame.append method is deprecated and will be removed from pandas in a future version. Use pandas.concat instead.\n",
      "  final = final.append(temp)\n"
     ]
    },
    {
     "name": "stdout",
     "output_type": "stream",
     "text": [
      "mid\n",
      "mid\n",
      "mid\n"
     ]
    },
    {
     "name": "stderr",
     "output_type": "stream",
     "text": [
      "/var/folders/08/_ldbqvz16j10d6w1jc1yxknr0000gn/T/ipykernel_60070/2740257287.py:76: FutureWarning: The frame.append method is deprecated and will be removed from pandas in a future version. Use pandas.concat instead.\n",
      "  final = final.append(temp)\n",
      "/var/folders/08/_ldbqvz16j10d6w1jc1yxknr0000gn/T/ipykernel_60070/2740257287.py:67: FutureWarning: The frame.append method is deprecated and will be removed from pandas in a future version. Use pandas.concat instead.\n",
      "  final = final.append(temp)\n",
      "/var/folders/08/_ldbqvz16j10d6w1jc1yxknr0000gn/T/ipykernel_60070/2740257287.py:67: FutureWarning: The frame.append method is deprecated and will be removed from pandas in a future version. Use pandas.concat instead.\n",
      "  final = final.append(temp)\n"
     ]
    },
    {
     "name": "stdout",
     "output_type": "stream",
     "text": [
      "mid\n",
      "down\n",
      "down\n"
     ]
    },
    {
     "name": "stderr",
     "output_type": "stream",
     "text": [
      "/var/folders/08/_ldbqvz16j10d6w1jc1yxknr0000gn/T/ipykernel_60070/2740257287.py:67: FutureWarning: The frame.append method is deprecated and will be removed from pandas in a future version. Use pandas.concat instead.\n",
      "  final = final.append(temp)\n",
      "/var/folders/08/_ldbqvz16j10d6w1jc1yxknr0000gn/T/ipykernel_60070/2740257287.py:67: FutureWarning: The frame.append method is deprecated and will be removed from pandas in a future version. Use pandas.concat instead.\n",
      "  final = final.append(temp)\n",
      "/var/folders/08/_ldbqvz16j10d6w1jc1yxknr0000gn/T/ipykernel_60070/2740257287.py:67: FutureWarning: The frame.append method is deprecated and will be removed from pandas in a future version. Use pandas.concat instead.\n",
      "  final = final.append(temp)\n"
     ]
    },
    {
     "name": "stdout",
     "output_type": "stream",
     "text": [
      "down\n",
      "down\n",
      "down\n"
     ]
    },
    {
     "name": "stderr",
     "output_type": "stream",
     "text": [
      "/var/folders/08/_ldbqvz16j10d6w1jc1yxknr0000gn/T/ipykernel_60070/2740257287.py:67: FutureWarning: The frame.append method is deprecated and will be removed from pandas in a future version. Use pandas.concat instead.\n",
      "  final = final.append(temp)\n",
      "/var/folders/08/_ldbqvz16j10d6w1jc1yxknr0000gn/T/ipykernel_60070/2740257287.py:67: FutureWarning: The frame.append method is deprecated and will be removed from pandas in a future version. Use pandas.concat instead.\n",
      "  final = final.append(temp)\n",
      "/var/folders/08/_ldbqvz16j10d6w1jc1yxknr0000gn/T/ipykernel_60070/2740257287.py:67: FutureWarning: The frame.append method is deprecated and will be removed from pandas in a future version. Use pandas.concat instead.\n",
      "  final = final.append(temp)\n"
     ]
    },
    {
     "name": "stdout",
     "output_type": "stream",
     "text": [
      "down\n",
      "down\n",
      "down\n"
     ]
    },
    {
     "name": "stderr",
     "output_type": "stream",
     "text": [
      "/var/folders/08/_ldbqvz16j10d6w1jc1yxknr0000gn/T/ipykernel_60070/2740257287.py:67: FutureWarning: The frame.append method is deprecated and will be removed from pandas in a future version. Use pandas.concat instead.\n",
      "  final = final.append(temp)\n",
      "/var/folders/08/_ldbqvz16j10d6w1jc1yxknr0000gn/T/ipykernel_60070/2740257287.py:67: FutureWarning: The frame.append method is deprecated and will be removed from pandas in a future version. Use pandas.concat instead.\n",
      "  final = final.append(temp)\n",
      "/var/folders/08/_ldbqvz16j10d6w1jc1yxknr0000gn/T/ipykernel_60070/2740257287.py:67: FutureWarning: The frame.append method is deprecated and will be removed from pandas in a future version. Use pandas.concat instead.\n",
      "  final = final.append(temp)\n"
     ]
    },
    {
     "name": "stdout",
     "output_type": "stream",
     "text": [
      "down\n",
      "down\n",
      "down\n"
     ]
    },
    {
     "name": "stderr",
     "output_type": "stream",
     "text": [
      "/var/folders/08/_ldbqvz16j10d6w1jc1yxknr0000gn/T/ipykernel_60070/2740257287.py:67: FutureWarning: The frame.append method is deprecated and will be removed from pandas in a future version. Use pandas.concat instead.\n",
      "  final = final.append(temp)\n",
      "/var/folders/08/_ldbqvz16j10d6w1jc1yxknr0000gn/T/ipykernel_60070/2740257287.py:67: FutureWarning: The frame.append method is deprecated and will be removed from pandas in a future version. Use pandas.concat instead.\n",
      "  final = final.append(temp)\n",
      "/var/folders/08/_ldbqvz16j10d6w1jc1yxknr0000gn/T/ipykernel_60070/2740257287.py:67: FutureWarning: The frame.append method is deprecated and will be removed from pandas in a future version. Use pandas.concat instead.\n",
      "  final = final.append(temp)\n"
     ]
    },
    {
     "name": "stdout",
     "output_type": "stream",
     "text": [
      "down\n",
      "down\n",
      "down\n"
     ]
    },
    {
     "name": "stderr",
     "output_type": "stream",
     "text": [
      "/var/folders/08/_ldbqvz16j10d6w1jc1yxknr0000gn/T/ipykernel_60070/2740257287.py:67: FutureWarning: The frame.append method is deprecated and will be removed from pandas in a future version. Use pandas.concat instead.\n",
      "  final = final.append(temp)\n",
      "/var/folders/08/_ldbqvz16j10d6w1jc1yxknr0000gn/T/ipykernel_60070/2740257287.py:67: FutureWarning: The frame.append method is deprecated and will be removed from pandas in a future version. Use pandas.concat instead.\n",
      "  final = final.append(temp)\n",
      "/var/folders/08/_ldbqvz16j10d6w1jc1yxknr0000gn/T/ipykernel_60070/2740257287.py:67: FutureWarning: The frame.append method is deprecated and will be removed from pandas in a future version. Use pandas.concat instead.\n",
      "  final = final.append(temp)\n"
     ]
    },
    {
     "name": "stdout",
     "output_type": "stream",
     "text": [
      "down\n",
      "down\n",
      "down\n"
     ]
    },
    {
     "name": "stderr",
     "output_type": "stream",
     "text": [
      "/var/folders/08/_ldbqvz16j10d6w1jc1yxknr0000gn/T/ipykernel_60070/2740257287.py:67: FutureWarning: The frame.append method is deprecated and will be removed from pandas in a future version. Use pandas.concat instead.\n",
      "  final = final.append(temp)\n",
      "/var/folders/08/_ldbqvz16j10d6w1jc1yxknr0000gn/T/ipykernel_60070/2740257287.py:67: FutureWarning: The frame.append method is deprecated and will be removed from pandas in a future version. Use pandas.concat instead.\n",
      "  final = final.append(temp)\n",
      "/var/folders/08/_ldbqvz16j10d6w1jc1yxknr0000gn/T/ipykernel_60070/2740257287.py:67: FutureWarning: The frame.append method is deprecated and will be removed from pandas in a future version. Use pandas.concat instead.\n",
      "  final = final.append(temp)\n"
     ]
    },
    {
     "name": "stdout",
     "output_type": "stream",
     "text": [
      "down\n",
      "down\n",
      "down\n"
     ]
    },
    {
     "name": "stderr",
     "output_type": "stream",
     "text": [
      "/var/folders/08/_ldbqvz16j10d6w1jc1yxknr0000gn/T/ipykernel_60070/2740257287.py:67: FutureWarning: The frame.append method is deprecated and will be removed from pandas in a future version. Use pandas.concat instead.\n",
      "  final = final.append(temp)\n",
      "/var/folders/08/_ldbqvz16j10d6w1jc1yxknr0000gn/T/ipykernel_60070/2740257287.py:67: FutureWarning: The frame.append method is deprecated and will be removed from pandas in a future version. Use pandas.concat instead.\n",
      "  final = final.append(temp)\n",
      "/var/folders/08/_ldbqvz16j10d6w1jc1yxknr0000gn/T/ipykernel_60070/2740257287.py:67: FutureWarning: The frame.append method is deprecated and will be removed from pandas in a future version. Use pandas.concat instead.\n",
      "  final = final.append(temp)\n"
     ]
    },
    {
     "name": "stdout",
     "output_type": "stream",
     "text": [
      "down\n",
      "down\n",
      "down\n"
     ]
    },
    {
     "name": "stderr",
     "output_type": "stream",
     "text": [
      "/var/folders/08/_ldbqvz16j10d6w1jc1yxknr0000gn/T/ipykernel_60070/2740257287.py:67: FutureWarning: The frame.append method is deprecated and will be removed from pandas in a future version. Use pandas.concat instead.\n",
      "  final = final.append(temp)\n",
      "/var/folders/08/_ldbqvz16j10d6w1jc1yxknr0000gn/T/ipykernel_60070/2740257287.py:67: FutureWarning: The frame.append method is deprecated and will be removed from pandas in a future version. Use pandas.concat instead.\n",
      "  final = final.append(temp)\n",
      "/var/folders/08/_ldbqvz16j10d6w1jc1yxknr0000gn/T/ipykernel_60070/2740257287.py:67: FutureWarning: The frame.append method is deprecated and will be removed from pandas in a future version. Use pandas.concat instead.\n",
      "  final = final.append(temp)\n"
     ]
    },
    {
     "name": "stdout",
     "output_type": "stream",
     "text": [
      "down\n",
      "down\n",
      "down\n"
     ]
    },
    {
     "name": "stderr",
     "output_type": "stream",
     "text": [
      "/var/folders/08/_ldbqvz16j10d6w1jc1yxknr0000gn/T/ipykernel_60070/2740257287.py:67: FutureWarning: The frame.append method is deprecated and will be removed from pandas in a future version. Use pandas.concat instead.\n",
      "  final = final.append(temp)\n",
      "/var/folders/08/_ldbqvz16j10d6w1jc1yxknr0000gn/T/ipykernel_60070/2740257287.py:67: FutureWarning: The frame.append method is deprecated and will be removed from pandas in a future version. Use pandas.concat instead.\n",
      "  final = final.append(temp)\n",
      "/var/folders/08/_ldbqvz16j10d6w1jc1yxknr0000gn/T/ipykernel_60070/2740257287.py:67: FutureWarning: The frame.append method is deprecated and will be removed from pandas in a future version. Use pandas.concat instead.\n",
      "  final = final.append(temp)\n"
     ]
    },
    {
     "name": "stdout",
     "output_type": "stream",
     "text": [
      "down\n",
      "down\n",
      "down\n"
     ]
    },
    {
     "name": "stderr",
     "output_type": "stream",
     "text": [
      "/var/folders/08/_ldbqvz16j10d6w1jc1yxknr0000gn/T/ipykernel_60070/2740257287.py:67: FutureWarning: The frame.append method is deprecated and will be removed from pandas in a future version. Use pandas.concat instead.\n",
      "  final = final.append(temp)\n",
      "/var/folders/08/_ldbqvz16j10d6w1jc1yxknr0000gn/T/ipykernel_60070/2740257287.py:67: FutureWarning: The frame.append method is deprecated and will be removed from pandas in a future version. Use pandas.concat instead.\n",
      "  final = final.append(temp)\n",
      "/var/folders/08/_ldbqvz16j10d6w1jc1yxknr0000gn/T/ipykernel_60070/2740257287.py:67: FutureWarning: The frame.append method is deprecated and will be removed from pandas in a future version. Use pandas.concat instead.\n",
      "  final = final.append(temp)\n"
     ]
    },
    {
     "name": "stdout",
     "output_type": "stream",
     "text": [
      "down\n",
      "down\n",
      "down\n"
     ]
    },
    {
     "name": "stderr",
     "output_type": "stream",
     "text": [
      "/var/folders/08/_ldbqvz16j10d6w1jc1yxknr0000gn/T/ipykernel_60070/2740257287.py:67: FutureWarning: The frame.append method is deprecated and will be removed from pandas in a future version. Use pandas.concat instead.\n",
      "  final = final.append(temp)\n",
      "/var/folders/08/_ldbqvz16j10d6w1jc1yxknr0000gn/T/ipykernel_60070/2740257287.py:67: FutureWarning: The frame.append method is deprecated and will be removed from pandas in a future version. Use pandas.concat instead.\n",
      "  final = final.append(temp)\n",
      "/var/folders/08/_ldbqvz16j10d6w1jc1yxknr0000gn/T/ipykernel_60070/2740257287.py:67: FutureWarning: The frame.append method is deprecated and will be removed from pandas in a future version. Use pandas.concat instead.\n",
      "  final = final.append(temp)\n"
     ]
    },
    {
     "name": "stdout",
     "output_type": "stream",
     "text": [
      "down\n",
      "down\n",
      "down\n"
     ]
    },
    {
     "name": "stderr",
     "output_type": "stream",
     "text": [
      "/var/folders/08/_ldbqvz16j10d6w1jc1yxknr0000gn/T/ipykernel_60070/2740257287.py:67: FutureWarning: The frame.append method is deprecated and will be removed from pandas in a future version. Use pandas.concat instead.\n",
      "  final = final.append(temp)\n",
      "/var/folders/08/_ldbqvz16j10d6w1jc1yxknr0000gn/T/ipykernel_60070/2740257287.py:67: FutureWarning: The frame.append method is deprecated and will be removed from pandas in a future version. Use pandas.concat instead.\n",
      "  final = final.append(temp)\n",
      "/var/folders/08/_ldbqvz16j10d6w1jc1yxknr0000gn/T/ipykernel_60070/2740257287.py:67: FutureWarning: The frame.append method is deprecated and will be removed from pandas in a future version. Use pandas.concat instead.\n",
      "  final = final.append(temp)\n"
     ]
    },
    {
     "name": "stdout",
     "output_type": "stream",
     "text": [
      "down\n",
      "down\n",
      "down\n"
     ]
    },
    {
     "name": "stderr",
     "output_type": "stream",
     "text": [
      "/var/folders/08/_ldbqvz16j10d6w1jc1yxknr0000gn/T/ipykernel_60070/2740257287.py:76: FutureWarning: The frame.append method is deprecated and will be removed from pandas in a future version. Use pandas.concat instead.\n",
      "  final = final.append(temp)\n",
      "/var/folders/08/_ldbqvz16j10d6w1jc1yxknr0000gn/T/ipykernel_60070/2740257287.py:76: FutureWarning: The frame.append method is deprecated and will be removed from pandas in a future version. Use pandas.concat instead.\n",
      "  final = final.append(temp)\n",
      "/var/folders/08/_ldbqvz16j10d6w1jc1yxknr0000gn/T/ipykernel_60070/2740257287.py:76: FutureWarning: The frame.append method is deprecated and will be removed from pandas in a future version. Use pandas.concat instead.\n",
      "  final = final.append(temp)\n"
     ]
    },
    {
     "name": "stdout",
     "output_type": "stream",
     "text": [
      "mid\n",
      "mid\n",
      "mid\n"
     ]
    },
    {
     "name": "stderr",
     "output_type": "stream",
     "text": [
      "/var/folders/08/_ldbqvz16j10d6w1jc1yxknr0000gn/T/ipykernel_60070/2740257287.py:76: FutureWarning: The frame.append method is deprecated and will be removed from pandas in a future version. Use pandas.concat instead.\n",
      "  final = final.append(temp)\n",
      "/var/folders/08/_ldbqvz16j10d6w1jc1yxknr0000gn/T/ipykernel_60070/2740257287.py:76: FutureWarning: The frame.append method is deprecated and will be removed from pandas in a future version. Use pandas.concat instead.\n",
      "  final = final.append(temp)\n",
      "/var/folders/08/_ldbqvz16j10d6w1jc1yxknr0000gn/T/ipykernel_60070/2740257287.py:76: FutureWarning: The frame.append method is deprecated and will be removed from pandas in a future version. Use pandas.concat instead.\n",
      "  final = final.append(temp)\n"
     ]
    },
    {
     "name": "stdout",
     "output_type": "stream",
     "text": [
      "mid\n",
      "mid\n",
      "mid\n"
     ]
    },
    {
     "name": "stderr",
     "output_type": "stream",
     "text": [
      "/var/folders/08/_ldbqvz16j10d6w1jc1yxknr0000gn/T/ipykernel_60070/2740257287.py:76: FutureWarning: The frame.append method is deprecated and will be removed from pandas in a future version. Use pandas.concat instead.\n",
      "  final = final.append(temp)\n",
      "/var/folders/08/_ldbqvz16j10d6w1jc1yxknr0000gn/T/ipykernel_60070/2740257287.py:76: FutureWarning: The frame.append method is deprecated and will be removed from pandas in a future version. Use pandas.concat instead.\n",
      "  final = final.append(temp)\n",
      "/var/folders/08/_ldbqvz16j10d6w1jc1yxknr0000gn/T/ipykernel_60070/2740257287.py:76: FutureWarning: The frame.append method is deprecated and will be removed from pandas in a future version. Use pandas.concat instead.\n",
      "  final = final.append(temp)\n"
     ]
    },
    {
     "name": "stdout",
     "output_type": "stream",
     "text": [
      "mid\n",
      "mid\n",
      "mid\n"
     ]
    },
    {
     "name": "stderr",
     "output_type": "stream",
     "text": [
      "/var/folders/08/_ldbqvz16j10d6w1jc1yxknr0000gn/T/ipykernel_60070/2740257287.py:76: FutureWarning: The frame.append method is deprecated and will be removed from pandas in a future version. Use pandas.concat instead.\n",
      "  final = final.append(temp)\n",
      "/var/folders/08/_ldbqvz16j10d6w1jc1yxknr0000gn/T/ipykernel_60070/2740257287.py:76: FutureWarning: The frame.append method is deprecated and will be removed from pandas in a future version. Use pandas.concat instead.\n",
      "  final = final.append(temp)\n",
      "/var/folders/08/_ldbqvz16j10d6w1jc1yxknr0000gn/T/ipykernel_60070/2740257287.py:76: FutureWarning: The frame.append method is deprecated and will be removed from pandas in a future version. Use pandas.concat instead.\n",
      "  final = final.append(temp)\n"
     ]
    },
    {
     "name": "stdout",
     "output_type": "stream",
     "text": [
      "mid\n",
      "mid\n",
      "mid\n"
     ]
    },
    {
     "name": "stderr",
     "output_type": "stream",
     "text": [
      "/var/folders/08/_ldbqvz16j10d6w1jc1yxknr0000gn/T/ipykernel_60070/2740257287.py:58: FutureWarning: The frame.append method is deprecated and will be removed from pandas in a future version. Use pandas.concat instead.\n",
      "  final = final.append(temp)\n",
      "/var/folders/08/_ldbqvz16j10d6w1jc1yxknr0000gn/T/ipykernel_60070/2740257287.py:58: FutureWarning: The frame.append method is deprecated and will be removed from pandas in a future version. Use pandas.concat instead.\n",
      "  final = final.append(temp)\n",
      "/var/folders/08/_ldbqvz16j10d6w1jc1yxknr0000gn/T/ipykernel_60070/2740257287.py:58: FutureWarning: The frame.append method is deprecated and will be removed from pandas in a future version. Use pandas.concat instead.\n",
      "  final = final.append(temp)\n"
     ]
    },
    {
     "name": "stdout",
     "output_type": "stream",
     "text": [
      "up\n",
      "up\n",
      "up\n"
     ]
    },
    {
     "name": "stderr",
     "output_type": "stream",
     "text": [
      "/var/folders/08/_ldbqvz16j10d6w1jc1yxknr0000gn/T/ipykernel_60070/2740257287.py:58: FutureWarning: The frame.append method is deprecated and will be removed from pandas in a future version. Use pandas.concat instead.\n",
      "  final = final.append(temp)\n",
      "/var/folders/08/_ldbqvz16j10d6w1jc1yxknr0000gn/T/ipykernel_60070/2740257287.py:58: FutureWarning: The frame.append method is deprecated and will be removed from pandas in a future version. Use pandas.concat instead.\n",
      "  final = final.append(temp)\n",
      "/var/folders/08/_ldbqvz16j10d6w1jc1yxknr0000gn/T/ipykernel_60070/2740257287.py:58: FutureWarning: The frame.append method is deprecated and will be removed from pandas in a future version. Use pandas.concat instead.\n",
      "  final = final.append(temp)\n"
     ]
    },
    {
     "name": "stdout",
     "output_type": "stream",
     "text": [
      "up\n",
      "up\n",
      "up\n"
     ]
    },
    {
     "name": "stderr",
     "output_type": "stream",
     "text": [
      "/var/folders/08/_ldbqvz16j10d6w1jc1yxknr0000gn/T/ipykernel_60070/2740257287.py:58: FutureWarning: The frame.append method is deprecated and will be removed from pandas in a future version. Use pandas.concat instead.\n",
      "  final = final.append(temp)\n",
      "/var/folders/08/_ldbqvz16j10d6w1jc1yxknr0000gn/T/ipykernel_60070/2740257287.py:58: FutureWarning: The frame.append method is deprecated and will be removed from pandas in a future version. Use pandas.concat instead.\n",
      "  final = final.append(temp)\n",
      "/var/folders/08/_ldbqvz16j10d6w1jc1yxknr0000gn/T/ipykernel_60070/2740257287.py:58: FutureWarning: The frame.append method is deprecated and will be removed from pandas in a future version. Use pandas.concat instead.\n",
      "  final = final.append(temp)\n"
     ]
    },
    {
     "name": "stdout",
     "output_type": "stream",
     "text": [
      "up\n",
      "up\n",
      "up\n"
     ]
    },
    {
     "name": "stderr",
     "output_type": "stream",
     "text": [
      "/var/folders/08/_ldbqvz16j10d6w1jc1yxknr0000gn/T/ipykernel_60070/2740257287.py:58: FutureWarning: The frame.append method is deprecated and will be removed from pandas in a future version. Use pandas.concat instead.\n",
      "  final = final.append(temp)\n",
      "/var/folders/08/_ldbqvz16j10d6w1jc1yxknr0000gn/T/ipykernel_60070/2740257287.py:58: FutureWarning: The frame.append method is deprecated and will be removed from pandas in a future version. Use pandas.concat instead.\n",
      "  final = final.append(temp)\n",
      "/var/folders/08/_ldbqvz16j10d6w1jc1yxknr0000gn/T/ipykernel_60070/2740257287.py:58: FutureWarning: The frame.append method is deprecated and will be removed from pandas in a future version. Use pandas.concat instead.\n",
      "  final = final.append(temp)\n"
     ]
    },
    {
     "name": "stdout",
     "output_type": "stream",
     "text": [
      "up\n",
      "up\n",
      "up\n"
     ]
    },
    {
     "name": "stderr",
     "output_type": "stream",
     "text": [
      "/var/folders/08/_ldbqvz16j10d6w1jc1yxknr0000gn/T/ipykernel_60070/2740257287.py:58: FutureWarning: The frame.append method is deprecated and will be removed from pandas in a future version. Use pandas.concat instead.\n",
      "  final = final.append(temp)\n",
      "/var/folders/08/_ldbqvz16j10d6w1jc1yxknr0000gn/T/ipykernel_60070/2740257287.py:58: FutureWarning: The frame.append method is deprecated and will be removed from pandas in a future version. Use pandas.concat instead.\n",
      "  final = final.append(temp)\n",
      "/var/folders/08/_ldbqvz16j10d6w1jc1yxknr0000gn/T/ipykernel_60070/2740257287.py:58: FutureWarning: The frame.append method is deprecated and will be removed from pandas in a future version. Use pandas.concat instead.\n",
      "  final = final.append(temp)\n"
     ]
    },
    {
     "name": "stdout",
     "output_type": "stream",
     "text": [
      "up\n",
      "up\n",
      "up\n"
     ]
    },
    {
     "name": "stderr",
     "output_type": "stream",
     "text": [
      "/var/folders/08/_ldbqvz16j10d6w1jc1yxknr0000gn/T/ipykernel_60070/2740257287.py:58: FutureWarning: The frame.append method is deprecated and will be removed from pandas in a future version. Use pandas.concat instead.\n",
      "  final = final.append(temp)\n",
      "/var/folders/08/_ldbqvz16j10d6w1jc1yxknr0000gn/T/ipykernel_60070/2740257287.py:58: FutureWarning: The frame.append method is deprecated and will be removed from pandas in a future version. Use pandas.concat instead.\n",
      "  final = final.append(temp)\n",
      "/var/folders/08/_ldbqvz16j10d6w1jc1yxknr0000gn/T/ipykernel_60070/2740257287.py:58: FutureWarning: The frame.append method is deprecated and will be removed from pandas in a future version. Use pandas.concat instead.\n",
      "  final = final.append(temp)\n"
     ]
    },
    {
     "name": "stdout",
     "output_type": "stream",
     "text": [
      "up\n",
      "up\n",
      "up\n"
     ]
    },
    {
     "name": "stderr",
     "output_type": "stream",
     "text": [
      "/var/folders/08/_ldbqvz16j10d6w1jc1yxknr0000gn/T/ipykernel_60070/2740257287.py:58: FutureWarning: The frame.append method is deprecated and will be removed from pandas in a future version. Use pandas.concat instead.\n",
      "  final = final.append(temp)\n",
      "/var/folders/08/_ldbqvz16j10d6w1jc1yxknr0000gn/T/ipykernel_60070/2740257287.py:58: FutureWarning: The frame.append method is deprecated and will be removed from pandas in a future version. Use pandas.concat instead.\n",
      "  final = final.append(temp)\n",
      "/var/folders/08/_ldbqvz16j10d6w1jc1yxknr0000gn/T/ipykernel_60070/2740257287.py:58: FutureWarning: The frame.append method is deprecated and will be removed from pandas in a future version. Use pandas.concat instead.\n",
      "  final = final.append(temp)\n"
     ]
    },
    {
     "name": "stdout",
     "output_type": "stream",
     "text": [
      "up\n",
      "up\n",
      "up\n"
     ]
    },
    {
     "name": "stderr",
     "output_type": "stream",
     "text": [
      "/var/folders/08/_ldbqvz16j10d6w1jc1yxknr0000gn/T/ipykernel_60070/2740257287.py:58: FutureWarning: The frame.append method is deprecated and will be removed from pandas in a future version. Use pandas.concat instead.\n",
      "  final = final.append(temp)\n",
      "/var/folders/08/_ldbqvz16j10d6w1jc1yxknr0000gn/T/ipykernel_60070/2740257287.py:58: FutureWarning: The frame.append method is deprecated and will be removed from pandas in a future version. Use pandas.concat instead.\n",
      "  final = final.append(temp)\n",
      "/var/folders/08/_ldbqvz16j10d6w1jc1yxknr0000gn/T/ipykernel_60070/2740257287.py:58: FutureWarning: The frame.append method is deprecated and will be removed from pandas in a future version. Use pandas.concat instead.\n",
      "  final = final.append(temp)\n"
     ]
    },
    {
     "name": "stdout",
     "output_type": "stream",
     "text": [
      "up\n",
      "up\n",
      "up\n"
     ]
    },
    {
     "name": "stderr",
     "output_type": "stream",
     "text": [
      "/var/folders/08/_ldbqvz16j10d6w1jc1yxknr0000gn/T/ipykernel_60070/2740257287.py:58: FutureWarning: The frame.append method is deprecated and will be removed from pandas in a future version. Use pandas.concat instead.\n",
      "  final = final.append(temp)\n",
      "/var/folders/08/_ldbqvz16j10d6w1jc1yxknr0000gn/T/ipykernel_60070/2740257287.py:58: FutureWarning: The frame.append method is deprecated and will be removed from pandas in a future version. Use pandas.concat instead.\n",
      "  final = final.append(temp)\n",
      "/var/folders/08/_ldbqvz16j10d6w1jc1yxknr0000gn/T/ipykernel_60070/2740257287.py:58: FutureWarning: The frame.append method is deprecated and will be removed from pandas in a future version. Use pandas.concat instead.\n",
      "  final = final.append(temp)\n"
     ]
    },
    {
     "name": "stdout",
     "output_type": "stream",
     "text": [
      "up\n",
      "up\n",
      "up\n"
     ]
    },
    {
     "name": "stderr",
     "output_type": "stream",
     "text": [
      "/var/folders/08/_ldbqvz16j10d6w1jc1yxknr0000gn/T/ipykernel_60070/2740257287.py:58: FutureWarning: The frame.append method is deprecated and will be removed from pandas in a future version. Use pandas.concat instead.\n",
      "  final = final.append(temp)\n",
      "/var/folders/08/_ldbqvz16j10d6w1jc1yxknr0000gn/T/ipykernel_60070/2740257287.py:58: FutureWarning: The frame.append method is deprecated and will be removed from pandas in a future version. Use pandas.concat instead.\n",
      "  final = final.append(temp)\n",
      "/var/folders/08/_ldbqvz16j10d6w1jc1yxknr0000gn/T/ipykernel_60070/2740257287.py:58: FutureWarning: The frame.append method is deprecated and will be removed from pandas in a future version. Use pandas.concat instead.\n",
      "  final = final.append(temp)\n"
     ]
    },
    {
     "name": "stdout",
     "output_type": "stream",
     "text": [
      "up\n",
      "up\n",
      "up\n"
     ]
    },
    {
     "name": "stderr",
     "output_type": "stream",
     "text": [
      "/var/folders/08/_ldbqvz16j10d6w1jc1yxknr0000gn/T/ipykernel_60070/2740257287.py:58: FutureWarning: The frame.append method is deprecated and will be removed from pandas in a future version. Use pandas.concat instead.\n",
      "  final = final.append(temp)\n",
      "/var/folders/08/_ldbqvz16j10d6w1jc1yxknr0000gn/T/ipykernel_60070/2740257287.py:58: FutureWarning: The frame.append method is deprecated and will be removed from pandas in a future version. Use pandas.concat instead.\n",
      "  final = final.append(temp)\n",
      "/var/folders/08/_ldbqvz16j10d6w1jc1yxknr0000gn/T/ipykernel_60070/2740257287.py:58: FutureWarning: The frame.append method is deprecated and will be removed from pandas in a future version. Use pandas.concat instead.\n",
      "  final = final.append(temp)\n"
     ]
    },
    {
     "name": "stdout",
     "output_type": "stream",
     "text": [
      "up\n",
      "up\n",
      "up\n"
     ]
    },
    {
     "name": "stderr",
     "output_type": "stream",
     "text": [
      "/var/folders/08/_ldbqvz16j10d6w1jc1yxknr0000gn/T/ipykernel_60070/2740257287.py:58: FutureWarning: The frame.append method is deprecated and will be removed from pandas in a future version. Use pandas.concat instead.\n",
      "  final = final.append(temp)\n",
      "/var/folders/08/_ldbqvz16j10d6w1jc1yxknr0000gn/T/ipykernel_60070/2740257287.py:58: FutureWarning: The frame.append method is deprecated and will be removed from pandas in a future version. Use pandas.concat instead.\n",
      "  final = final.append(temp)\n",
      "/var/folders/08/_ldbqvz16j10d6w1jc1yxknr0000gn/T/ipykernel_60070/2740257287.py:58: FutureWarning: The frame.append method is deprecated and will be removed from pandas in a future version. Use pandas.concat instead.\n",
      "  final = final.append(temp)\n"
     ]
    },
    {
     "name": "stdout",
     "output_type": "stream",
     "text": [
      "up\n",
      "up\n",
      "up\n"
     ]
    },
    {
     "name": "stderr",
     "output_type": "stream",
     "text": [
      "/var/folders/08/_ldbqvz16j10d6w1jc1yxknr0000gn/T/ipykernel_60070/2740257287.py:58: FutureWarning: The frame.append method is deprecated and will be removed from pandas in a future version. Use pandas.concat instead.\n",
      "  final = final.append(temp)\n",
      "/var/folders/08/_ldbqvz16j10d6w1jc1yxknr0000gn/T/ipykernel_60070/2740257287.py:58: FutureWarning: The frame.append method is deprecated and will be removed from pandas in a future version. Use pandas.concat instead.\n",
      "  final = final.append(temp)\n",
      "/var/folders/08/_ldbqvz16j10d6w1jc1yxknr0000gn/T/ipykernel_60070/2740257287.py:58: FutureWarning: The frame.append method is deprecated and will be removed from pandas in a future version. Use pandas.concat instead.\n",
      "  final = final.append(temp)\n"
     ]
    },
    {
     "name": "stdout",
     "output_type": "stream",
     "text": [
      "up\n",
      "up\n",
      "up\n"
     ]
    },
    {
     "name": "stderr",
     "output_type": "stream",
     "text": [
      "/var/folders/08/_ldbqvz16j10d6w1jc1yxknr0000gn/T/ipykernel_60070/2740257287.py:58: FutureWarning: The frame.append method is deprecated and will be removed from pandas in a future version. Use pandas.concat instead.\n",
      "  final = final.append(temp)\n",
      "/var/folders/08/_ldbqvz16j10d6w1jc1yxknr0000gn/T/ipykernel_60070/2740257287.py:58: FutureWarning: The frame.append method is deprecated and will be removed from pandas in a future version. Use pandas.concat instead.\n",
      "  final = final.append(temp)\n",
      "/var/folders/08/_ldbqvz16j10d6w1jc1yxknr0000gn/T/ipykernel_60070/2740257287.py:58: FutureWarning: The frame.append method is deprecated and will be removed from pandas in a future version. Use pandas.concat instead.\n",
      "  final = final.append(temp)\n"
     ]
    },
    {
     "name": "stdout",
     "output_type": "stream",
     "text": [
      "up\n",
      "up\n",
      "up\n"
     ]
    },
    {
     "name": "stderr",
     "output_type": "stream",
     "text": [
      "/var/folders/08/_ldbqvz16j10d6w1jc1yxknr0000gn/T/ipykernel_60070/2740257287.py:58: FutureWarning: The frame.append method is deprecated and will be removed from pandas in a future version. Use pandas.concat instead.\n",
      "  final = final.append(temp)\n",
      "/var/folders/08/_ldbqvz16j10d6w1jc1yxknr0000gn/T/ipykernel_60070/2740257287.py:58: FutureWarning: The frame.append method is deprecated and will be removed from pandas in a future version. Use pandas.concat instead.\n",
      "  final = final.append(temp)\n",
      "/var/folders/08/_ldbqvz16j10d6w1jc1yxknr0000gn/T/ipykernel_60070/2740257287.py:58: FutureWarning: The frame.append method is deprecated and will be removed from pandas in a future version. Use pandas.concat instead.\n",
      "  final = final.append(temp)\n"
     ]
    },
    {
     "name": "stdout",
     "output_type": "stream",
     "text": [
      "up\n",
      "up\n",
      "up\n"
     ]
    },
    {
     "name": "stderr",
     "output_type": "stream",
     "text": [
      "/var/folders/08/_ldbqvz16j10d6w1jc1yxknr0000gn/T/ipykernel_60070/2740257287.py:58: FutureWarning: The frame.append method is deprecated and will be removed from pandas in a future version. Use pandas.concat instead.\n",
      "  final = final.append(temp)\n",
      "/var/folders/08/_ldbqvz16j10d6w1jc1yxknr0000gn/T/ipykernel_60070/2740257287.py:58: FutureWarning: The frame.append method is deprecated and will be removed from pandas in a future version. Use pandas.concat instead.\n",
      "  final = final.append(temp)\n",
      "/var/folders/08/_ldbqvz16j10d6w1jc1yxknr0000gn/T/ipykernel_60070/2740257287.py:58: FutureWarning: The frame.append method is deprecated and will be removed from pandas in a future version. Use pandas.concat instead.\n",
      "  final = final.append(temp)\n"
     ]
    },
    {
     "name": "stdout",
     "output_type": "stream",
     "text": [
      "up\n",
      "up\n",
      "up\n"
     ]
    },
    {
     "name": "stderr",
     "output_type": "stream",
     "text": [
      "/var/folders/08/_ldbqvz16j10d6w1jc1yxknr0000gn/T/ipykernel_60070/2740257287.py:58: FutureWarning: The frame.append method is deprecated and will be removed from pandas in a future version. Use pandas.concat instead.\n",
      "  final = final.append(temp)\n",
      "/var/folders/08/_ldbqvz16j10d6w1jc1yxknr0000gn/T/ipykernel_60070/2740257287.py:58: FutureWarning: The frame.append method is deprecated and will be removed from pandas in a future version. Use pandas.concat instead.\n",
      "  final = final.append(temp)\n",
      "/var/folders/08/_ldbqvz16j10d6w1jc1yxknr0000gn/T/ipykernel_60070/2740257287.py:58: FutureWarning: The frame.append method is deprecated and will be removed from pandas in a future version. Use pandas.concat instead.\n",
      "  final = final.append(temp)\n"
     ]
    },
    {
     "name": "stdout",
     "output_type": "stream",
     "text": [
      "up\n",
      "up\n",
      "up\n"
     ]
    },
    {
     "name": "stderr",
     "output_type": "stream",
     "text": [
      "/var/folders/08/_ldbqvz16j10d6w1jc1yxknr0000gn/T/ipykernel_60070/2740257287.py:58: FutureWarning: The frame.append method is deprecated and will be removed from pandas in a future version. Use pandas.concat instead.\n",
      "  final = final.append(temp)\n",
      "/var/folders/08/_ldbqvz16j10d6w1jc1yxknr0000gn/T/ipykernel_60070/2740257287.py:58: FutureWarning: The frame.append method is deprecated and will be removed from pandas in a future version. Use pandas.concat instead.\n",
      "  final = final.append(temp)\n",
      "/var/folders/08/_ldbqvz16j10d6w1jc1yxknr0000gn/T/ipykernel_60070/2740257287.py:58: FutureWarning: The frame.append method is deprecated and will be removed from pandas in a future version. Use pandas.concat instead.\n",
      "  final = final.append(temp)\n"
     ]
    },
    {
     "name": "stdout",
     "output_type": "stream",
     "text": [
      "up\n",
      "up\n",
      "up\n"
     ]
    },
    {
     "name": "stderr",
     "output_type": "stream",
     "text": [
      "/var/folders/08/_ldbqvz16j10d6w1jc1yxknr0000gn/T/ipykernel_60070/2740257287.py:58: FutureWarning: The frame.append method is deprecated and will be removed from pandas in a future version. Use pandas.concat instead.\n",
      "  final = final.append(temp)\n",
      "/var/folders/08/_ldbqvz16j10d6w1jc1yxknr0000gn/T/ipykernel_60070/2740257287.py:58: FutureWarning: The frame.append method is deprecated and will be removed from pandas in a future version. Use pandas.concat instead.\n",
      "  final = final.append(temp)\n",
      "/var/folders/08/_ldbqvz16j10d6w1jc1yxknr0000gn/T/ipykernel_60070/2740257287.py:58: FutureWarning: The frame.append method is deprecated and will be removed from pandas in a future version. Use pandas.concat instead.\n",
      "  final = final.append(temp)\n"
     ]
    },
    {
     "name": "stdout",
     "output_type": "stream",
     "text": [
      "up\n",
      "up\n",
      "up\n"
     ]
    },
    {
     "name": "stderr",
     "output_type": "stream",
     "text": [
      "/var/folders/08/_ldbqvz16j10d6w1jc1yxknr0000gn/T/ipykernel_60070/2740257287.py:58: FutureWarning: The frame.append method is deprecated and will be removed from pandas in a future version. Use pandas.concat instead.\n",
      "  final = final.append(temp)\n",
      "/var/folders/08/_ldbqvz16j10d6w1jc1yxknr0000gn/T/ipykernel_60070/2740257287.py:58: FutureWarning: The frame.append method is deprecated and will be removed from pandas in a future version. Use pandas.concat instead.\n",
      "  final = final.append(temp)\n",
      "/var/folders/08/_ldbqvz16j10d6w1jc1yxknr0000gn/T/ipykernel_60070/2740257287.py:58: FutureWarning: The frame.append method is deprecated and will be removed from pandas in a future version. Use pandas.concat instead.\n",
      "  final = final.append(temp)\n"
     ]
    },
    {
     "name": "stdout",
     "output_type": "stream",
     "text": [
      "up\n",
      "up\n",
      "up\n"
     ]
    },
    {
     "name": "stderr",
     "output_type": "stream",
     "text": [
      "/var/folders/08/_ldbqvz16j10d6w1jc1yxknr0000gn/T/ipykernel_60070/2740257287.py:58: FutureWarning: The frame.append method is deprecated and will be removed from pandas in a future version. Use pandas.concat instead.\n",
      "  final = final.append(temp)\n",
      "/var/folders/08/_ldbqvz16j10d6w1jc1yxknr0000gn/T/ipykernel_60070/2740257287.py:58: FutureWarning: The frame.append method is deprecated and will be removed from pandas in a future version. Use pandas.concat instead.\n",
      "  final = final.append(temp)\n",
      "/var/folders/08/_ldbqvz16j10d6w1jc1yxknr0000gn/T/ipykernel_60070/2740257287.py:58: FutureWarning: The frame.append method is deprecated and will be removed from pandas in a future version. Use pandas.concat instead.\n",
      "  final = final.append(temp)\n"
     ]
    },
    {
     "name": "stdout",
     "output_type": "stream",
     "text": [
      "up\n",
      "up\n",
      "up\n"
     ]
    },
    {
     "name": "stderr",
     "output_type": "stream",
     "text": [
      "/var/folders/08/_ldbqvz16j10d6w1jc1yxknr0000gn/T/ipykernel_60070/2740257287.py:58: FutureWarning: The frame.append method is deprecated and will be removed from pandas in a future version. Use pandas.concat instead.\n",
      "  final = final.append(temp)\n",
      "/var/folders/08/_ldbqvz16j10d6w1jc1yxknr0000gn/T/ipykernel_60070/2740257287.py:58: FutureWarning: The frame.append method is deprecated and will be removed from pandas in a future version. Use pandas.concat instead.\n",
      "  final = final.append(temp)\n",
      "/var/folders/08/_ldbqvz16j10d6w1jc1yxknr0000gn/T/ipykernel_60070/2740257287.py:58: FutureWarning: The frame.append method is deprecated and will be removed from pandas in a future version. Use pandas.concat instead.\n",
      "  final = final.append(temp)\n"
     ]
    },
    {
     "name": "stdout",
     "output_type": "stream",
     "text": [
      "up\n",
      "up\n",
      "up\n"
     ]
    },
    {
     "name": "stderr",
     "output_type": "stream",
     "text": [
      "/var/folders/08/_ldbqvz16j10d6w1jc1yxknr0000gn/T/ipykernel_60070/2740257287.py:58: FutureWarning: The frame.append method is deprecated and will be removed from pandas in a future version. Use pandas.concat instead.\n",
      "  final = final.append(temp)\n",
      "/var/folders/08/_ldbqvz16j10d6w1jc1yxknr0000gn/T/ipykernel_60070/2740257287.py:76: FutureWarning: The frame.append method is deprecated and will be removed from pandas in a future version. Use pandas.concat instead.\n",
      "  final = final.append(temp)\n",
      "/var/folders/08/_ldbqvz16j10d6w1jc1yxknr0000gn/T/ipykernel_60070/2740257287.py:76: FutureWarning: The frame.append method is deprecated and will be removed from pandas in a future version. Use pandas.concat instead.\n",
      "  final = final.append(temp)\n"
     ]
    },
    {
     "name": "stdout",
     "output_type": "stream",
     "text": [
      "up\n",
      "mid\n",
      "mid\n"
     ]
    },
    {
     "name": "stderr",
     "output_type": "stream",
     "text": [
      "/var/folders/08/_ldbqvz16j10d6w1jc1yxknr0000gn/T/ipykernel_60070/2740257287.py:76: FutureWarning: The frame.append method is deprecated and will be removed from pandas in a future version. Use pandas.concat instead.\n",
      "  final = final.append(temp)\n",
      "/var/folders/08/_ldbqvz16j10d6w1jc1yxknr0000gn/T/ipykernel_60070/2740257287.py:76: FutureWarning: The frame.append method is deprecated and will be removed from pandas in a future version. Use pandas.concat instead.\n",
      "  final = final.append(temp)\n",
      "/var/folders/08/_ldbqvz16j10d6w1jc1yxknr0000gn/T/ipykernel_60070/2740257287.py:76: FutureWarning: The frame.append method is deprecated and will be removed from pandas in a future version. Use pandas.concat instead.\n",
      "  final = final.append(temp)\n"
     ]
    },
    {
     "name": "stdout",
     "output_type": "stream",
     "text": [
      "mid\n",
      "mid\n",
      "mid\n"
     ]
    },
    {
     "name": "stderr",
     "output_type": "stream",
     "text": [
      "/var/folders/08/_ldbqvz16j10d6w1jc1yxknr0000gn/T/ipykernel_60070/2740257287.py:76: FutureWarning: The frame.append method is deprecated and will be removed from pandas in a future version. Use pandas.concat instead.\n",
      "  final = final.append(temp)\n",
      "/var/folders/08/_ldbqvz16j10d6w1jc1yxknr0000gn/T/ipykernel_60070/2740257287.py:76: FutureWarning: The frame.append method is deprecated and will be removed from pandas in a future version. Use pandas.concat instead.\n",
      "  final = final.append(temp)\n",
      "/var/folders/08/_ldbqvz16j10d6w1jc1yxknr0000gn/T/ipykernel_60070/2740257287.py:76: FutureWarning: The frame.append method is deprecated and will be removed from pandas in a future version. Use pandas.concat instead.\n",
      "  final = final.append(temp)\n"
     ]
    },
    {
     "name": "stdout",
     "output_type": "stream",
     "text": [
      "mid\n",
      "mid\n",
      "mid\n"
     ]
    },
    {
     "name": "stderr",
     "output_type": "stream",
     "text": [
      "/var/folders/08/_ldbqvz16j10d6w1jc1yxknr0000gn/T/ipykernel_60070/2740257287.py:76: FutureWarning: The frame.append method is deprecated and will be removed from pandas in a future version. Use pandas.concat instead.\n",
      "  final = final.append(temp)\n",
      "/var/folders/08/_ldbqvz16j10d6w1jc1yxknr0000gn/T/ipykernel_60070/2740257287.py:76: FutureWarning: The frame.append method is deprecated and will be removed from pandas in a future version. Use pandas.concat instead.\n",
      "  final = final.append(temp)\n",
      "/var/folders/08/_ldbqvz16j10d6w1jc1yxknr0000gn/T/ipykernel_60070/2740257287.py:76: FutureWarning: The frame.append method is deprecated and will be removed from pandas in a future version. Use pandas.concat instead.\n",
      "  final = final.append(temp)\n"
     ]
    },
    {
     "name": "stdout",
     "output_type": "stream",
     "text": [
      "mid\n",
      "mid\n",
      "mid\n"
     ]
    },
    {
     "name": "stderr",
     "output_type": "stream",
     "text": [
      "/var/folders/08/_ldbqvz16j10d6w1jc1yxknr0000gn/T/ipykernel_60070/2740257287.py:76: FutureWarning: The frame.append method is deprecated and will be removed from pandas in a future version. Use pandas.concat instead.\n",
      "  final = final.append(temp)\n",
      "/var/folders/08/_ldbqvz16j10d6w1jc1yxknr0000gn/T/ipykernel_60070/2740257287.py:76: FutureWarning: The frame.append method is deprecated and will be removed from pandas in a future version. Use pandas.concat instead.\n",
      "  final = final.append(temp)\n",
      "/var/folders/08/_ldbqvz16j10d6w1jc1yxknr0000gn/T/ipykernel_60070/2740257287.py:76: FutureWarning: The frame.append method is deprecated and will be removed from pandas in a future version. Use pandas.concat instead.\n",
      "  final = final.append(temp)\n"
     ]
    },
    {
     "name": "stdout",
     "output_type": "stream",
     "text": [
      "mid\n",
      "mid\n",
      "mid\n"
     ]
    },
    {
     "name": "stderr",
     "output_type": "stream",
     "text": [
      "/var/folders/08/_ldbqvz16j10d6w1jc1yxknr0000gn/T/ipykernel_60070/2740257287.py:67: FutureWarning: The frame.append method is deprecated and will be removed from pandas in a future version. Use pandas.concat instead.\n",
      "  final = final.append(temp)\n",
      "/var/folders/08/_ldbqvz16j10d6w1jc1yxknr0000gn/T/ipykernel_60070/2740257287.py:67: FutureWarning: The frame.append method is deprecated and will be removed from pandas in a future version. Use pandas.concat instead.\n",
      "  final = final.append(temp)\n",
      "/var/folders/08/_ldbqvz16j10d6w1jc1yxknr0000gn/T/ipykernel_60070/2740257287.py:67: FutureWarning: The frame.append method is deprecated and will be removed from pandas in a future version. Use pandas.concat instead.\n",
      "  final = final.append(temp)\n"
     ]
    },
    {
     "name": "stdout",
     "output_type": "stream",
     "text": [
      "down\n",
      "down\n",
      "down\n"
     ]
    },
    {
     "name": "stderr",
     "output_type": "stream",
     "text": [
      "/var/folders/08/_ldbqvz16j10d6w1jc1yxknr0000gn/T/ipykernel_60070/2740257287.py:67: FutureWarning: The frame.append method is deprecated and will be removed from pandas in a future version. Use pandas.concat instead.\n",
      "  final = final.append(temp)\n",
      "/var/folders/08/_ldbqvz16j10d6w1jc1yxknr0000gn/T/ipykernel_60070/2740257287.py:67: FutureWarning: The frame.append method is deprecated and will be removed from pandas in a future version. Use pandas.concat instead.\n",
      "  final = final.append(temp)\n",
      "/var/folders/08/_ldbqvz16j10d6w1jc1yxknr0000gn/T/ipykernel_60070/2740257287.py:67: FutureWarning: The frame.append method is deprecated and will be removed from pandas in a future version. Use pandas.concat instead.\n",
      "  final = final.append(temp)\n"
     ]
    },
    {
     "name": "stdout",
     "output_type": "stream",
     "text": [
      "down\n",
      "down\n",
      "down\n"
     ]
    },
    {
     "name": "stderr",
     "output_type": "stream",
     "text": [
      "/var/folders/08/_ldbqvz16j10d6w1jc1yxknr0000gn/T/ipykernel_60070/2740257287.py:67: FutureWarning: The frame.append method is deprecated and will be removed from pandas in a future version. Use pandas.concat instead.\n",
      "  final = final.append(temp)\n",
      "/var/folders/08/_ldbqvz16j10d6w1jc1yxknr0000gn/T/ipykernel_60070/2740257287.py:67: FutureWarning: The frame.append method is deprecated and will be removed from pandas in a future version. Use pandas.concat instead.\n",
      "  final = final.append(temp)\n",
      "/var/folders/08/_ldbqvz16j10d6w1jc1yxknr0000gn/T/ipykernel_60070/2740257287.py:67: FutureWarning: The frame.append method is deprecated and will be removed from pandas in a future version. Use pandas.concat instead.\n",
      "  final = final.append(temp)\n"
     ]
    },
    {
     "name": "stdout",
     "output_type": "stream",
     "text": [
      "down\n",
      "down\n",
      "down\n"
     ]
    },
    {
     "name": "stderr",
     "output_type": "stream",
     "text": [
      "/var/folders/08/_ldbqvz16j10d6w1jc1yxknr0000gn/T/ipykernel_60070/2740257287.py:67: FutureWarning: The frame.append method is deprecated and will be removed from pandas in a future version. Use pandas.concat instead.\n",
      "  final = final.append(temp)\n",
      "/var/folders/08/_ldbqvz16j10d6w1jc1yxknr0000gn/T/ipykernel_60070/2740257287.py:67: FutureWarning: The frame.append method is deprecated and will be removed from pandas in a future version. Use pandas.concat instead.\n",
      "  final = final.append(temp)\n",
      "/var/folders/08/_ldbqvz16j10d6w1jc1yxknr0000gn/T/ipykernel_60070/2740257287.py:67: FutureWarning: The frame.append method is deprecated and will be removed from pandas in a future version. Use pandas.concat instead.\n",
      "  final = final.append(temp)\n"
     ]
    },
    {
     "name": "stdout",
     "output_type": "stream",
     "text": [
      "down\n",
      "down\n",
      "down\n"
     ]
    },
    {
     "name": "stderr",
     "output_type": "stream",
     "text": [
      "/var/folders/08/_ldbqvz16j10d6w1jc1yxknr0000gn/T/ipykernel_60070/2740257287.py:67: FutureWarning: The frame.append method is deprecated and will be removed from pandas in a future version. Use pandas.concat instead.\n",
      "  final = final.append(temp)\n",
      "/var/folders/08/_ldbqvz16j10d6w1jc1yxknr0000gn/T/ipykernel_60070/2740257287.py:67: FutureWarning: The frame.append method is deprecated and will be removed from pandas in a future version. Use pandas.concat instead.\n",
      "  final = final.append(temp)\n",
      "/var/folders/08/_ldbqvz16j10d6w1jc1yxknr0000gn/T/ipykernel_60070/2740257287.py:67: FutureWarning: The frame.append method is deprecated and will be removed from pandas in a future version. Use pandas.concat instead.\n",
      "  final = final.append(temp)\n"
     ]
    },
    {
     "name": "stdout",
     "output_type": "stream",
     "text": [
      "down\n",
      "down\n",
      "down\n"
     ]
    },
    {
     "name": "stderr",
     "output_type": "stream",
     "text": [
      "/var/folders/08/_ldbqvz16j10d6w1jc1yxknr0000gn/T/ipykernel_60070/2740257287.py:67: FutureWarning: The frame.append method is deprecated and will be removed from pandas in a future version. Use pandas.concat instead.\n",
      "  final = final.append(temp)\n",
      "/var/folders/08/_ldbqvz16j10d6w1jc1yxknr0000gn/T/ipykernel_60070/2740257287.py:67: FutureWarning: The frame.append method is deprecated and will be removed from pandas in a future version. Use pandas.concat instead.\n",
      "  final = final.append(temp)\n",
      "/var/folders/08/_ldbqvz16j10d6w1jc1yxknr0000gn/T/ipykernel_60070/2740257287.py:67: FutureWarning: The frame.append method is deprecated and will be removed from pandas in a future version. Use pandas.concat instead.\n",
      "  final = final.append(temp)\n"
     ]
    },
    {
     "name": "stdout",
     "output_type": "stream",
     "text": [
      "down\n",
      "down\n",
      "down\n"
     ]
    },
    {
     "name": "stderr",
     "output_type": "stream",
     "text": [
      "/var/folders/08/_ldbqvz16j10d6w1jc1yxknr0000gn/T/ipykernel_60070/2740257287.py:67: FutureWarning: The frame.append method is deprecated and will be removed from pandas in a future version. Use pandas.concat instead.\n",
      "  final = final.append(temp)\n",
      "/var/folders/08/_ldbqvz16j10d6w1jc1yxknr0000gn/T/ipykernel_60070/2740257287.py:67: FutureWarning: The frame.append method is deprecated and will be removed from pandas in a future version. Use pandas.concat instead.\n",
      "  final = final.append(temp)\n",
      "/var/folders/08/_ldbqvz16j10d6w1jc1yxknr0000gn/T/ipykernel_60070/2740257287.py:67: FutureWarning: The frame.append method is deprecated and will be removed from pandas in a future version. Use pandas.concat instead.\n",
      "  final = final.append(temp)\n"
     ]
    },
    {
     "name": "stdout",
     "output_type": "stream",
     "text": [
      "down\n",
      "down\n",
      "down\n"
     ]
    },
    {
     "name": "stderr",
     "output_type": "stream",
     "text": [
      "/var/folders/08/_ldbqvz16j10d6w1jc1yxknr0000gn/T/ipykernel_60070/2740257287.py:67: FutureWarning: The frame.append method is deprecated and will be removed from pandas in a future version. Use pandas.concat instead.\n",
      "  final = final.append(temp)\n",
      "/var/folders/08/_ldbqvz16j10d6w1jc1yxknr0000gn/T/ipykernel_60070/2740257287.py:67: FutureWarning: The frame.append method is deprecated and will be removed from pandas in a future version. Use pandas.concat instead.\n",
      "  final = final.append(temp)\n",
      "/var/folders/08/_ldbqvz16j10d6w1jc1yxknr0000gn/T/ipykernel_60070/2740257287.py:67: FutureWarning: The frame.append method is deprecated and will be removed from pandas in a future version. Use pandas.concat instead.\n",
      "  final = final.append(temp)\n"
     ]
    },
    {
     "name": "stdout",
     "output_type": "stream",
     "text": [
      "down\n",
      "down\n",
      "down\n"
     ]
    },
    {
     "name": "stderr",
     "output_type": "stream",
     "text": [
      "/var/folders/08/_ldbqvz16j10d6w1jc1yxknr0000gn/T/ipykernel_60070/2740257287.py:67: FutureWarning: The frame.append method is deprecated and will be removed from pandas in a future version. Use pandas.concat instead.\n",
      "  final = final.append(temp)\n",
      "/var/folders/08/_ldbqvz16j10d6w1jc1yxknr0000gn/T/ipykernel_60070/2740257287.py:67: FutureWarning: The frame.append method is deprecated and will be removed from pandas in a future version. Use pandas.concat instead.\n",
      "  final = final.append(temp)\n",
      "/var/folders/08/_ldbqvz16j10d6w1jc1yxknr0000gn/T/ipykernel_60070/2740257287.py:67: FutureWarning: The frame.append method is deprecated and will be removed from pandas in a future version. Use pandas.concat instead.\n",
      "  final = final.append(temp)\n"
     ]
    },
    {
     "name": "stdout",
     "output_type": "stream",
     "text": [
      "down\n",
      "down\n",
      "down\n"
     ]
    },
    {
     "name": "stderr",
     "output_type": "stream",
     "text": [
      "/var/folders/08/_ldbqvz16j10d6w1jc1yxknr0000gn/T/ipykernel_60070/2740257287.py:67: FutureWarning: The frame.append method is deprecated and will be removed from pandas in a future version. Use pandas.concat instead.\n",
      "  final = final.append(temp)\n",
      "/var/folders/08/_ldbqvz16j10d6w1jc1yxknr0000gn/T/ipykernel_60070/2740257287.py:67: FutureWarning: The frame.append method is deprecated and will be removed from pandas in a future version. Use pandas.concat instead.\n",
      "  final = final.append(temp)\n",
      "/var/folders/08/_ldbqvz16j10d6w1jc1yxknr0000gn/T/ipykernel_60070/2740257287.py:67: FutureWarning: The frame.append method is deprecated and will be removed from pandas in a future version. Use pandas.concat instead.\n",
      "  final = final.append(temp)\n"
     ]
    },
    {
     "name": "stdout",
     "output_type": "stream",
     "text": [
      "down\n",
      "down\n",
      "down\n"
     ]
    },
    {
     "name": "stderr",
     "output_type": "stream",
     "text": [
      "/var/folders/08/_ldbqvz16j10d6w1jc1yxknr0000gn/T/ipykernel_60070/2740257287.py:67: FutureWarning: The frame.append method is deprecated and will be removed from pandas in a future version. Use pandas.concat instead.\n",
      "  final = final.append(temp)\n",
      "/var/folders/08/_ldbqvz16j10d6w1jc1yxknr0000gn/T/ipykernel_60070/2740257287.py:67: FutureWarning: The frame.append method is deprecated and will be removed from pandas in a future version. Use pandas.concat instead.\n",
      "  final = final.append(temp)\n",
      "/var/folders/08/_ldbqvz16j10d6w1jc1yxknr0000gn/T/ipykernel_60070/2740257287.py:76: FutureWarning: The frame.append method is deprecated and will be removed from pandas in a future version. Use pandas.concat instead.\n",
      "  final = final.append(temp)\n"
     ]
    },
    {
     "name": "stdout",
     "output_type": "stream",
     "text": [
      "down\n",
      "down\n",
      "mid\n"
     ]
    },
    {
     "name": "stderr",
     "output_type": "stream",
     "text": [
      "/var/folders/08/_ldbqvz16j10d6w1jc1yxknr0000gn/T/ipykernel_60070/2740257287.py:76: FutureWarning: The frame.append method is deprecated and will be removed from pandas in a future version. Use pandas.concat instead.\n",
      "  final = final.append(temp)\n",
      "/var/folders/08/_ldbqvz16j10d6w1jc1yxknr0000gn/T/ipykernel_60070/2740257287.py:76: FutureWarning: The frame.append method is deprecated and will be removed from pandas in a future version. Use pandas.concat instead.\n",
      "  final = final.append(temp)\n",
      "/var/folders/08/_ldbqvz16j10d6w1jc1yxknr0000gn/T/ipykernel_60070/2740257287.py:76: FutureWarning: The frame.append method is deprecated and will be removed from pandas in a future version. Use pandas.concat instead.\n",
      "  final = final.append(temp)\n"
     ]
    },
    {
     "name": "stdout",
     "output_type": "stream",
     "text": [
      "mid\n",
      "mid\n",
      "mid\n"
     ]
    },
    {
     "name": "stderr",
     "output_type": "stream",
     "text": [
      "/var/folders/08/_ldbqvz16j10d6w1jc1yxknr0000gn/T/ipykernel_60070/2740257287.py:76: FutureWarning: The frame.append method is deprecated and will be removed from pandas in a future version. Use pandas.concat instead.\n",
      "  final = final.append(temp)\n",
      "/var/folders/08/_ldbqvz16j10d6w1jc1yxknr0000gn/T/ipykernel_60070/2740257287.py:76: FutureWarning: The frame.append method is deprecated and will be removed from pandas in a future version. Use pandas.concat instead.\n",
      "  final = final.append(temp)\n",
      "/var/folders/08/_ldbqvz16j10d6w1jc1yxknr0000gn/T/ipykernel_60070/2740257287.py:76: FutureWarning: The frame.append method is deprecated and will be removed from pandas in a future version. Use pandas.concat instead.\n",
      "  final = final.append(temp)\n"
     ]
    },
    {
     "name": "stdout",
     "output_type": "stream",
     "text": [
      "mid\n",
      "mid\n",
      "mid\n"
     ]
    },
    {
     "name": "stderr",
     "output_type": "stream",
     "text": [
      "/var/folders/08/_ldbqvz16j10d6w1jc1yxknr0000gn/T/ipykernel_60070/2740257287.py:76: FutureWarning: The frame.append method is deprecated and will be removed from pandas in a future version. Use pandas.concat instead.\n",
      "  final = final.append(temp)\n",
      "/var/folders/08/_ldbqvz16j10d6w1jc1yxknr0000gn/T/ipykernel_60070/2740257287.py:76: FutureWarning: The frame.append method is deprecated and will be removed from pandas in a future version. Use pandas.concat instead.\n",
      "  final = final.append(temp)\n",
      "/var/folders/08/_ldbqvz16j10d6w1jc1yxknr0000gn/T/ipykernel_60070/2740257287.py:76: FutureWarning: The frame.append method is deprecated and will be removed from pandas in a future version. Use pandas.concat instead.\n",
      "  final = final.append(temp)\n"
     ]
    },
    {
     "name": "stdout",
     "output_type": "stream",
     "text": [
      "mid\n",
      "mid\n",
      "mid\n"
     ]
    },
    {
     "name": "stderr",
     "output_type": "stream",
     "text": [
      "/var/folders/08/_ldbqvz16j10d6w1jc1yxknr0000gn/T/ipykernel_60070/2740257287.py:76: FutureWarning: The frame.append method is deprecated and will be removed from pandas in a future version. Use pandas.concat instead.\n",
      "  final = final.append(temp)\n",
      "/var/folders/08/_ldbqvz16j10d6w1jc1yxknr0000gn/T/ipykernel_60070/2740257287.py:76: FutureWarning: The frame.append method is deprecated and will be removed from pandas in a future version. Use pandas.concat instead.\n",
      "  final = final.append(temp)\n",
      "/var/folders/08/_ldbqvz16j10d6w1jc1yxknr0000gn/T/ipykernel_60070/2740257287.py:58: FutureWarning: The frame.append method is deprecated and will be removed from pandas in a future version. Use pandas.concat instead.\n",
      "  final = final.append(temp)\n"
     ]
    },
    {
     "name": "stdout",
     "output_type": "stream",
     "text": [
      "mid\n",
      "mid\n",
      "up\n"
     ]
    },
    {
     "name": "stderr",
     "output_type": "stream",
     "text": [
      "/var/folders/08/_ldbqvz16j10d6w1jc1yxknr0000gn/T/ipykernel_60070/2740257287.py:58: FutureWarning: The frame.append method is deprecated and will be removed from pandas in a future version. Use pandas.concat instead.\n",
      "  final = final.append(temp)\n",
      "/var/folders/08/_ldbqvz16j10d6w1jc1yxknr0000gn/T/ipykernel_60070/2740257287.py:58: FutureWarning: The frame.append method is deprecated and will be removed from pandas in a future version. Use pandas.concat instead.\n",
      "  final = final.append(temp)\n",
      "/var/folders/08/_ldbqvz16j10d6w1jc1yxknr0000gn/T/ipykernel_60070/2740257287.py:58: FutureWarning: The frame.append method is deprecated and will be removed from pandas in a future version. Use pandas.concat instead.\n",
      "  final = final.append(temp)\n"
     ]
    },
    {
     "name": "stdout",
     "output_type": "stream",
     "text": [
      "up\n",
      "up\n",
      "up\n"
     ]
    },
    {
     "name": "stderr",
     "output_type": "stream",
     "text": [
      "/var/folders/08/_ldbqvz16j10d6w1jc1yxknr0000gn/T/ipykernel_60070/2740257287.py:58: FutureWarning: The frame.append method is deprecated and will be removed from pandas in a future version. Use pandas.concat instead.\n",
      "  final = final.append(temp)\n",
      "/var/folders/08/_ldbqvz16j10d6w1jc1yxknr0000gn/T/ipykernel_60070/2740257287.py:58: FutureWarning: The frame.append method is deprecated and will be removed from pandas in a future version. Use pandas.concat instead.\n",
      "  final = final.append(temp)\n",
      "/var/folders/08/_ldbqvz16j10d6w1jc1yxknr0000gn/T/ipykernel_60070/2740257287.py:58: FutureWarning: The frame.append method is deprecated and will be removed from pandas in a future version. Use pandas.concat instead.\n",
      "  final = final.append(temp)\n"
     ]
    },
    {
     "name": "stdout",
     "output_type": "stream",
     "text": [
      "up\n",
      "up\n",
      "up\n"
     ]
    },
    {
     "name": "stderr",
     "output_type": "stream",
     "text": [
      "/var/folders/08/_ldbqvz16j10d6w1jc1yxknr0000gn/T/ipykernel_60070/2740257287.py:58: FutureWarning: The frame.append method is deprecated and will be removed from pandas in a future version. Use pandas.concat instead.\n",
      "  final = final.append(temp)\n",
      "/var/folders/08/_ldbqvz16j10d6w1jc1yxknr0000gn/T/ipykernel_60070/2740257287.py:58: FutureWarning: The frame.append method is deprecated and will be removed from pandas in a future version. Use pandas.concat instead.\n",
      "  final = final.append(temp)\n",
      "/var/folders/08/_ldbqvz16j10d6w1jc1yxknr0000gn/T/ipykernel_60070/2740257287.py:58: FutureWarning: The frame.append method is deprecated and will be removed from pandas in a future version. Use pandas.concat instead.\n",
      "  final = final.append(temp)\n"
     ]
    },
    {
     "name": "stdout",
     "output_type": "stream",
     "text": [
      "up\n",
      "up\n",
      "up\n"
     ]
    },
    {
     "name": "stderr",
     "output_type": "stream",
     "text": [
      "/var/folders/08/_ldbqvz16j10d6w1jc1yxknr0000gn/T/ipykernel_60070/2740257287.py:58: FutureWarning: The frame.append method is deprecated and will be removed from pandas in a future version. Use pandas.concat instead.\n",
      "  final = final.append(temp)\n",
      "/var/folders/08/_ldbqvz16j10d6w1jc1yxknr0000gn/T/ipykernel_60070/2740257287.py:58: FutureWarning: The frame.append method is deprecated and will be removed from pandas in a future version. Use pandas.concat instead.\n",
      "  final = final.append(temp)\n",
      "/var/folders/08/_ldbqvz16j10d6w1jc1yxknr0000gn/T/ipykernel_60070/2740257287.py:58: FutureWarning: The frame.append method is deprecated and will be removed from pandas in a future version. Use pandas.concat instead.\n",
      "  final = final.append(temp)\n"
     ]
    },
    {
     "name": "stdout",
     "output_type": "stream",
     "text": [
      "up\n",
      "up\n",
      "up\n"
     ]
    },
    {
     "name": "stderr",
     "output_type": "stream",
     "text": [
      "/var/folders/08/_ldbqvz16j10d6w1jc1yxknr0000gn/T/ipykernel_60070/2740257287.py:58: FutureWarning: The frame.append method is deprecated and will be removed from pandas in a future version. Use pandas.concat instead.\n",
      "  final = final.append(temp)\n",
      "/var/folders/08/_ldbqvz16j10d6w1jc1yxknr0000gn/T/ipykernel_60070/2740257287.py:58: FutureWarning: The frame.append method is deprecated and will be removed from pandas in a future version. Use pandas.concat instead.\n",
      "  final = final.append(temp)\n",
      "/var/folders/08/_ldbqvz16j10d6w1jc1yxknr0000gn/T/ipykernel_60070/2740257287.py:58: FutureWarning: The frame.append method is deprecated and will be removed from pandas in a future version. Use pandas.concat instead.\n",
      "  final = final.append(temp)\n"
     ]
    },
    {
     "name": "stdout",
     "output_type": "stream",
     "text": [
      "up\n",
      "up\n",
      "up\n"
     ]
    },
    {
     "name": "stderr",
     "output_type": "stream",
     "text": [
      "/var/folders/08/_ldbqvz16j10d6w1jc1yxknr0000gn/T/ipykernel_60070/2740257287.py:58: FutureWarning: The frame.append method is deprecated and will be removed from pandas in a future version. Use pandas.concat instead.\n",
      "  final = final.append(temp)\n",
      "/var/folders/08/_ldbqvz16j10d6w1jc1yxknr0000gn/T/ipykernel_60070/2740257287.py:58: FutureWarning: The frame.append method is deprecated and will be removed from pandas in a future version. Use pandas.concat instead.\n",
      "  final = final.append(temp)\n",
      "/var/folders/08/_ldbqvz16j10d6w1jc1yxknr0000gn/T/ipykernel_60070/2740257287.py:58: FutureWarning: The frame.append method is deprecated and will be removed from pandas in a future version. Use pandas.concat instead.\n",
      "  final = final.append(temp)\n"
     ]
    },
    {
     "name": "stdout",
     "output_type": "stream",
     "text": [
      "up\n",
      "up\n",
      "up\n"
     ]
    },
    {
     "name": "stderr",
     "output_type": "stream",
     "text": [
      "/var/folders/08/_ldbqvz16j10d6w1jc1yxknr0000gn/T/ipykernel_60070/2740257287.py:58: FutureWarning: The frame.append method is deprecated and will be removed from pandas in a future version. Use pandas.concat instead.\n",
      "  final = final.append(temp)\n",
      "/var/folders/08/_ldbqvz16j10d6w1jc1yxknr0000gn/T/ipykernel_60070/2740257287.py:58: FutureWarning: The frame.append method is deprecated and will be removed from pandas in a future version. Use pandas.concat instead.\n",
      "  final = final.append(temp)\n",
      "/var/folders/08/_ldbqvz16j10d6w1jc1yxknr0000gn/T/ipykernel_60070/2740257287.py:58: FutureWarning: The frame.append method is deprecated and will be removed from pandas in a future version. Use pandas.concat instead.\n",
      "  final = final.append(temp)\n"
     ]
    },
    {
     "name": "stdout",
     "output_type": "stream",
     "text": [
      "up\n",
      "up\n",
      "up\n"
     ]
    },
    {
     "name": "stderr",
     "output_type": "stream",
     "text": [
      "/var/folders/08/_ldbqvz16j10d6w1jc1yxknr0000gn/T/ipykernel_60070/2740257287.py:58: FutureWarning: The frame.append method is deprecated and will be removed from pandas in a future version. Use pandas.concat instead.\n",
      "  final = final.append(temp)\n",
      "/var/folders/08/_ldbqvz16j10d6w1jc1yxknr0000gn/T/ipykernel_60070/2740257287.py:58: FutureWarning: The frame.append method is deprecated and will be removed from pandas in a future version. Use pandas.concat instead.\n",
      "  final = final.append(temp)\n",
      "/var/folders/08/_ldbqvz16j10d6w1jc1yxknr0000gn/T/ipykernel_60070/2740257287.py:58: FutureWarning: The frame.append method is deprecated and will be removed from pandas in a future version. Use pandas.concat instead.\n",
      "  final = final.append(temp)\n"
     ]
    },
    {
     "name": "stdout",
     "output_type": "stream",
     "text": [
      "up\n",
      "up\n",
      "up\n"
     ]
    },
    {
     "name": "stderr",
     "output_type": "stream",
     "text": [
      "/var/folders/08/_ldbqvz16j10d6w1jc1yxknr0000gn/T/ipykernel_60070/2740257287.py:58: FutureWarning: The frame.append method is deprecated and will be removed from pandas in a future version. Use pandas.concat instead.\n",
      "  final = final.append(temp)\n",
      "/var/folders/08/_ldbqvz16j10d6w1jc1yxknr0000gn/T/ipykernel_60070/2740257287.py:58: FutureWarning: The frame.append method is deprecated and will be removed from pandas in a future version. Use pandas.concat instead.\n",
      "  final = final.append(temp)\n",
      "/var/folders/08/_ldbqvz16j10d6w1jc1yxknr0000gn/T/ipykernel_60070/2740257287.py:58: FutureWarning: The frame.append method is deprecated and will be removed from pandas in a future version. Use pandas.concat instead.\n",
      "  final = final.append(temp)\n"
     ]
    },
    {
     "name": "stdout",
     "output_type": "stream",
     "text": [
      "up\n",
      "up\n",
      "up\n"
     ]
    },
    {
     "name": "stderr",
     "output_type": "stream",
     "text": [
      "/var/folders/08/_ldbqvz16j10d6w1jc1yxknr0000gn/T/ipykernel_60070/2740257287.py:58: FutureWarning: The frame.append method is deprecated and will be removed from pandas in a future version. Use pandas.concat instead.\n",
      "  final = final.append(temp)\n",
      "/var/folders/08/_ldbqvz16j10d6w1jc1yxknr0000gn/T/ipykernel_60070/2740257287.py:58: FutureWarning: The frame.append method is deprecated and will be removed from pandas in a future version. Use pandas.concat instead.\n",
      "  final = final.append(temp)\n",
      "/var/folders/08/_ldbqvz16j10d6w1jc1yxknr0000gn/T/ipykernel_60070/2740257287.py:58: FutureWarning: The frame.append method is deprecated and will be removed from pandas in a future version. Use pandas.concat instead.\n",
      "  final = final.append(temp)\n"
     ]
    },
    {
     "name": "stdout",
     "output_type": "stream",
     "text": [
      "up\n",
      "up\n",
      "up\n"
     ]
    },
    {
     "name": "stderr",
     "output_type": "stream",
     "text": [
      "/var/folders/08/_ldbqvz16j10d6w1jc1yxknr0000gn/T/ipykernel_60070/2740257287.py:58: FutureWarning: The frame.append method is deprecated and will be removed from pandas in a future version. Use pandas.concat instead.\n",
      "  final = final.append(temp)\n",
      "/var/folders/08/_ldbqvz16j10d6w1jc1yxknr0000gn/T/ipykernel_60070/2740257287.py:58: FutureWarning: The frame.append method is deprecated and will be removed from pandas in a future version. Use pandas.concat instead.\n",
      "  final = final.append(temp)\n",
      "/var/folders/08/_ldbqvz16j10d6w1jc1yxknr0000gn/T/ipykernel_60070/2740257287.py:58: FutureWarning: The frame.append method is deprecated and will be removed from pandas in a future version. Use pandas.concat instead.\n",
      "  final = final.append(temp)\n"
     ]
    },
    {
     "name": "stdout",
     "output_type": "stream",
     "text": [
      "up\n",
      "up\n",
      "up\n",
      "up\n",
      "up\n",
      "Ignoring empty camera frame.\n"
     ]
    },
    {
     "name": "stderr",
     "output_type": "stream",
     "text": [
      "/var/folders/08/_ldbqvz16j10d6w1jc1yxknr0000gn/T/ipykernel_60070/2740257287.py:58: FutureWarning: The frame.append method is deprecated and will be removed from pandas in a future version. Use pandas.concat instead.\n",
      "  final = final.append(temp)\n",
      "/var/folders/08/_ldbqvz16j10d6w1jc1yxknr0000gn/T/ipykernel_60070/2740257287.py:58: FutureWarning: The frame.append method is deprecated and will be removed from pandas in a future version. Use pandas.concat instead.\n",
      "  final = final.append(temp)\n"
     ]
    }
   ],
   "source": [
    "import cv2\n",
    "import mediapipe as mp\n",
    "import keyboard\n",
    "import pandas as pd\n",
    "from google.protobuf.json_format import MessageToDict\n",
    "\n",
    "\n",
    "mp_drawing = mp.solutions.drawing_utils\n",
    "mp_drawing_styles = mp.solutions.drawing_styles\n",
    "mp_pose = mp.solutions.pose\n",
    "\n",
    "cap = cv2.VideoCapture('deadlift_train4.mov')\n",
    "with mp_pose.Pose(min_detection_confidence=0.5,min_tracking_confidence=0.5) as pose:\n",
    "    while cap.isOpened():\n",
    "        success, image = cap.read()\n",
    "        if not success:\n",
    "              print(\"Ignoring empty camera frame.\")\n",
    "          # If loading a video, use 'break' instead of 'continue'.\n",
    "              break\n",
    "\n",
    "        # To improve performance, optionally mark the image as not writeable to\n",
    "        # pass by reference.\n",
    "        image.flags.writeable = False\n",
    "        image = cv2.cvtColor(image, cv2.COLOR_BGR2RGB)\n",
    "        results = pose.process(image)\n",
    "\n",
    "        # Draw the pose annotation on the image.\n",
    "        image.flags.writeable = True\n",
    "        image = cv2.cvtColor(image, cv2.COLOR_RGB2BGR)\n",
    "        mp_drawing.draw_landmarks(\n",
    "            image,\n",
    "            results.pose_landmarks,\n",
    "            mp_pose.POSE_CONNECTIONS,\n",
    "            landmark_drawing_spec=mp_drawing_styles.get_default_pose_landmarks_style())\n",
    "        # Flip the image horizontally for a selfie-view display.\n",
    "        cv2.imshow('MediaPipe Pose', cv2.flip(image, 0))\n",
    "        \n",
    "        \n",
    "        \n",
    "        \n",
    "        landmarks = results.pose_landmarks.landmark\n",
    "        \n",
    "        data_list = []\n",
    "        for item in landmarks:\n",
    "            dict_item = MessageToDict(item)\n",
    "            data_list.append(dict_item)\n",
    "\n",
    "        # Create a Pandas dataframe from the list of dictionaries\n",
    "        df = pd.DataFrame(data_list)\n",
    "        data = df.values.flatten()\n",
    "        \n",
    "        if df.iloc[0,1] > 0.80 :\n",
    "            temp_arr = ['up']\n",
    "            for i in data :\n",
    "                temp_arr.append(i)\n",
    "            temp.loc[len(df)] = temp_arr\n",
    "#             final = pd.merge(final, temp, on=cols)\n",
    "            final = final.append(temp)\n",
    "            print('up')\n",
    "            \n",
    "        elif df.iloc[0,1] < 0.64:\n",
    "            temp_arr = ['down']\n",
    "            for i in data :\n",
    "                temp_arr.append(i)\n",
    "            temp.loc[len(df)] = temp_arr\n",
    "#             final = pd.merge(final, temp, on=cols)\n",
    "            final = final.append(temp)\n",
    "            print('down')\n",
    "    \n",
    "        else:\n",
    "            temp_arr = ['mid']\n",
    "            for i in data :\n",
    "                temp_arr.append(i)\n",
    "            temp.loc[len(df)] = temp_arr\n",
    "#             final = pd.merge(final, temp, on=cols)\n",
    "            final = final.append(temp)\n",
    "            print('mid')\n",
    "    \n",
    "        \n",
    "        \n",
    "#         if keyboard.is_pressed('u'):\n",
    "#             temp_arr = ['up']\n",
    "#             for i in data :\n",
    "#                 temp_arr.append(i)\n",
    "#             temp.loc[len(df)] = temp_arr\n",
    "# #             final = pd.merge(final, temp, on=cols)\n",
    "#             final = final.append(temp)\n",
    "            \n",
    "#         elif keyboard.is_pressed('d'):\n",
    "#             temp_arr = ['down']\n",
    "#             for i in data :\n",
    "#                 temp_arr.append(i)\n",
    "#             temp.loc[len(df)] = temp_arr\n",
    "# #             final = pd.merge(final, temp, on=cols)\n",
    "#             final = final.append(temp)\n",
    "    \n",
    "#         elif keyboard.is_pressed('m'):\n",
    "#             temp_arr = ['mid']\n",
    "#             for i in data :\n",
    "#                 temp_arr.append(i)\n",
    "#             temp.loc[len(df)] = temp_arr\n",
    "# #             final = pd.merge(final, temp, on=cols)\n",
    "#             final = final.append(temp)\n",
    "        \n",
    "        \n",
    "        \n",
    "        \n",
    "        \n",
    "        \n",
    "        if cv2.waitKey(5) & 0xFF == 27:\n",
    "              break\n",
    "cap.release()\n",
    "cv2.destroyAllWindows()"
   ]
  },
  {
   "cell_type": "code",
   "execution_count": null,
   "id": "31f95ae2",
   "metadata": {},
   "outputs": [],
   "source": []
  },
  {
   "cell_type": "code",
   "execution_count": null,
   "id": "fcffda56",
   "metadata": {},
   "outputs": [],
   "source": []
  },
  {
   "cell_type": "code",
   "execution_count": 4,
   "id": "eadb59fd",
   "metadata": {},
   "outputs": [
    {
     "name": "stdout",
     "output_type": "stream",
     "text": [
      "   class        x0        y0        z0        v0        x1        y1  \\\n",
      "33    up  0.528262   0.85997  -0.19157       1.0  0.509108   0.87149   \n",
      "33    up  0.528491  0.859945 -0.194657       1.0  0.509174  0.871494   \n",
      "33    up  0.529004  0.859877 -0.194788       1.0  0.509654  0.871487   \n",
      "33    up  0.529201  0.859855 -0.196095       1.0  0.509797  0.871486   \n",
      "33    up  0.529291  0.859817 -0.205513       1.0  0.509843  0.871485   \n",
      "..   ...       ...       ...       ...       ...       ...       ...   \n",
      "33    up  0.504025  0.907992 -0.246792  0.999999  0.484972  0.917728   \n",
      "33    up  0.504186  0.908082 -0.247215  0.999999  0.485329  0.917711   \n",
      "33    up  0.506378  0.908138 -0.238108  0.999999  0.487463  0.917695   \n",
      "33    up  0.509256  0.908157 -0.240297  0.999999  0.490794  0.917673   \n",
      "33    up   0.51022  0.908212 -0.223439  0.999999  0.491391  0.917779   \n",
      "\n",
      "          z1        v1        x2  ...       z30       v30       x31       y31  \\\n",
      "33  -0.16064  0.999999  0.499043  ...  0.255222  0.905302  0.352905  0.185873   \n",
      "33  -0.16474  0.999999  0.499061  ...  0.228527  0.901764   0.36549  0.187619   \n",
      "33 -0.164995  0.999999   0.49949  ...  0.230712  0.898608  0.372309  0.188417   \n",
      "33 -0.167098  0.999998  0.499583  ...  0.233082  0.896047  0.371023  0.188568   \n",
      "33 -0.177161  0.999998  0.499615  ...  0.226235  0.894393  0.371478  0.188719   \n",
      "..       ...       ...       ...  ...       ...       ...       ...       ...   \n",
      "33 -0.213963  0.999998  0.473662  ...  0.251062  0.908141  0.344517  0.229111   \n",
      "33  -0.21426  0.999998  0.474112  ...  0.251495  0.907115  0.342053  0.227625   \n",
      "33 -0.206017  0.999998  0.476327  ...  0.239843  0.905776  0.342002  0.227503   \n",
      "33 -0.207513  0.999998  0.480213  ...  0.245627  0.903626  0.342028  0.229076   \n",
      "33 -0.190222  0.999998  0.480651  ...   0.21861  0.901195  0.342091  0.228461   \n",
      "\n",
      "         z31       v31       x32       y32       z32       v32  \n",
      "33  0.033609  0.986869  0.706445  0.180649    0.0432  0.989149  \n",
      "33  0.012817  0.986137  0.708398  0.179412  0.028648   0.98854  \n",
      "33   0.00749  0.985402  0.709084  0.179322  0.029648  0.987919  \n",
      "33  0.008646  0.984894  0.710431  0.178609  0.030952  0.987512  \n",
      "33  0.002811   0.98475  0.712283  0.178101  0.027336  0.987346  \n",
      "..       ...       ...       ...       ...       ...       ...  \n",
      "33  0.055605  0.982916  0.670925  0.217364  0.064069  0.986908  \n",
      "33  0.057588  0.983084  0.670763  0.217362  0.065328  0.986931  \n",
      "33  0.048907  0.983166  0.671701  0.217126  0.051014  0.986896  \n",
      "33  0.049281  0.983077  0.673038  0.217041   0.05252  0.986783  \n",
      "33  0.015015  0.983046  0.673663  0.216865  0.025983  0.986659  \n",
      "\n",
      "[398 rows x 133 columns]\n"
     ]
    }
   ],
   "source": [
    "print(final)"
   ]
  },
  {
   "cell_type": "code",
   "execution_count": 5,
   "id": "e165f071",
   "metadata": {},
   "outputs": [],
   "source": [
    "final.to_csv('/Users/krishna/Documents/Projects/smart mirror phase 2/deadlift_train4.csv', index=False)"
   ]
  }
 ],
 "metadata": {
  "kernelspec": {
   "display_name": "Python 3 (ipykernel)",
   "language": "python",
   "name": "python3"
  },
  "language_info": {
   "codemirror_mode": {
    "name": "ipython",
    "version": 3
   },
   "file_extension": ".py",
   "mimetype": "text/x-python",
   "name": "python",
   "nbconvert_exporter": "python",
   "pygments_lexer": "ipython3",
   "version": "3.9.12"
  }
 },
 "nbformat": 4,
 "nbformat_minor": 5
}
